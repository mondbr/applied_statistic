{
 "cells": [
  {
   "cell_type": "markdown",
   "id": "f0ad2c58",
   "metadata": {},
   "source": [
    "# Problems Notebook"
   ]
  },
  {
   "cell_type": "markdown",
   "id": "ea4dc1f0",
   "metadata": {},
   "source": [
    "This notebook contains my work of the assessment in Applied Statistics module in the Higher Diploma in Data Analytics course. \n",
    "The notebook covers four main problems: \n",
    "\n",
    "\n"
   ]
  },
  {
   "cell_type": "markdown",
   "id": "7dd36cf9",
   "metadata": {},
   "source": [
    "## Problem 1: Extending the Lady Tasting Tea:\n",
    "\n",
    "Let's extend the Lady Tasting Tea experiment as follows. The original experiment has 8 cups: 4 tea-first and 4 milk-first. Suppose we prepare 12 cups: 8 tea-first and 4 milk-first. A participant claims they can tell which was poured first.\n",
    "\n",
    "Simulate this experiment using numpy by randomly shuffling the cups many times and calculating the probability of the participant correctly identifying all cups by chance. Compare your result with the original 8-cup experiment.\n",
    "\n",
    "In your notebook, explain your simulation process clearly, report and interpret the estimated probability, and discuss whether, based on this probability, you would consider extending or relaxing the p-value threshold compared to the original design."
   ]
  },
  {
   "cell_type": "markdown",
   "id": "5e944992",
   "metadata": {},
   "source": [
    "### Solution to the Problem 1"
   ]
  },
  {
   "cell_type": "code",
   "execution_count": 42,
   "id": "6781f60d",
   "metadata": {},
   "outputs": [],
   "source": [
    "# Import necessary libraries\n",
    "\n",
    "# for mathematical functions\n",
    "# see https://docs.python.org/3/library/math.html\n",
    "import math\n",
    "\n",
    "# for combinatorial functions\n",
    "# see https://docs.python.org/3/library/itertools.html\n",
    "import itertools\n",
    "\n",
    "# for random number generation\n",
    "# see https://www.w3schools.com/python/module_random.asp\n",
    "import random\n",
    "\n",
    "# for numerical operations\n",
    "# see https://www.w3schools.com/python/numpy/numpy_intro.asp\n",
    "import numpy as np\n",
    "\n",
    "# for data visualization and plotting\n",
    "# see https://www.w3schools.com/python/matplotlib_pyplot.asp\n",
    "import matplotlib.pyplot as plt"
   ]
  },
  {
   "cell_type": "markdown",
   "id": "5e8c7071",
   "metadata": {},
   "source": [
    "#### Mathematical Concepts"
   ]
  },
  {
   "cell_type": "markdown",
   "id": "8d5a7e90",
   "metadata": {},
   "source": [
    "https://docs.python.org/3/library/math.html#math.comb"
   ]
  },
  {
   "cell_type": "markdown",
   "id": "36cd2794",
   "metadata": {},
   "source": [
    "#### Cups of Tea in Original Experiment"
   ]
  },
  {
   "cell_type": "code",
   "execution_count": 43,
   "id": "c37bfae4",
   "metadata": {},
   "outputs": [],
   "source": [
    "# Number of cups of tea. All cups are identical. \n",
    "num_cups= 8\n",
    "\n",
    "# Number of cups with tea first\n",
    "num_tea_first = 4\n",
    "\n",
    "# Number of cups with milk first\n",
    "num_milk_first= 4"
   ]
  },
  {
   "cell_type": "code",
   "execution_count": 44,
   "id": "b6f1ef47",
   "metadata": {},
   "outputs": [
    {
     "name": "stdout",
     "output_type": "stream",
     "text": [
      "Number of ways to select cups is 70\n"
     ]
    }
   ],
   "source": [
    "# Number of ways to select 8 cups from 12\n",
    "\n",
    "tea_ways = math.comb(num_cups, num_tea_first)\n",
    "\n",
    "print(f'Number of ways to select cups is {tea_ways}')"
   ]
  },
  {
   "cell_type": "markdown",
   "id": "384d3ff4",
   "metadata": {},
   "source": [
    "#### Cups of Tea in Extended Experiment"
   ]
  },
  {
   "cell_type": "code",
   "execution_count": 45,
   "id": "d60ef702",
   "metadata": {},
   "outputs": [],
   "source": [
    "# Number of cups of tea. All cups are identical. \n",
    "num_cups_ex = 12\n",
    "\n",
    "# Number of cups with tea first\n",
    "num_tea_first_ex = 8\n",
    "\n",
    "# Number of cups with milk first\n",
    "num_milk_first_ex = 4"
   ]
  },
  {
   "cell_type": "code",
   "execution_count": 46,
   "id": "94ecf41b",
   "metadata": {},
   "outputs": [
    {
     "name": "stdout",
     "output_type": "stream",
     "text": [
      "Number of ways to select cups is 495\n"
     ]
    }
   ],
   "source": [
    "# Number of ways to select 8 cups from 12\n",
    "\n",
    "tea_ways_ex = math.comb(num_cups_ex, num_tea_first_ex)\n",
    "\n",
    "print(f'Number of ways to select cups is {tea_ways_ex}')"
   ]
  },
  {
   "cell_type": "code",
   "execution_count": 47,
   "id": "c91014e2",
   "metadata": {},
   "outputs": [
    {
     "name": "stdout",
     "output_type": "stream",
     "text": [
      "Number of ways to select cups is 495\n"
     ]
    }
   ],
   "source": [
    "# number of ways to select 4 cups from 12\n",
    "milk_ways_ex = math.comb(num_cups_ex, num_milk_first_ex)\n",
    "\n",
    "print(f'Number of ways to select cups is {milk_ways_ex}')"
   ]
  },
  {
   "cell_type": "markdown",
   "id": "6052c395",
   "metadata": {},
   "source": [
    "Both results shows 495, however these results are not exaclty the same. \n",
    "\n",
    "If we choose 8 cups to have tea first, it leaves us with remaining 4 cups with milk. If we choose 4 cups with milk, we will have 8 cups remaining. "
   ]
  },
  {
   "cell_type": "markdown",
   "id": "e1703e7f",
   "metadata": {},
   "source": [
    "Let's check that carefully. "
   ]
  },
  {
   "cell_type": "markdown",
   "id": "947c478f",
   "metadata": {},
   "source": [
    "##### Select 8 cups to have tea first."
   ]
  },
  {
   "cell_type": "markdown",
   "id": "ea6b53c9",
   "metadata": {},
   "source": [
    "Label the 12 cups of tea from the extened experiment `1`, `2`, `3`, `4`, `5`, `6`, `7`, `8`, `9`, `10`, `11`, `12`. \n",
    "\n",
    "We select 8 cups to have tea in first.\n",
    "\n",
    "For example, we might select `1`, `2`, `4`, `6`, `9`, `10`, `11` and `12`.\n",
    "\n",
    "Visualize having eight saucers where we place eight of the cups.\n",
    "\n",
    "How many ways are there to select 8 cups from 12?\n",
    "\n",
    "Cups: `1 2 3 4 5 6 7 8 9 10 11 12`\n",
    "\n",
    "Saucers: `_ _ _ _ _ _ _ _`"
   ]
  },
  {
   "cell_type": "code",
   "execution_count": 48,
   "id": "85f509d8",
   "metadata": {},
   "outputs": [
    {
     "data": {
      "text/plain": [
       "19958400"
      ]
     },
     "execution_count": 48,
     "metadata": {},
     "output_type": "execute_result"
    }
   ],
   "source": [
    "# Total number of ways of selecting 8 cups from 12, keeping them in order.\n",
    "ways_ordered_tea = 12 * 11 * 10 * 9 * 8 * 7 * 6 * 5\n",
    "\n",
    "# Show.\n",
    "ways_ordered_tea"
   ]
  },
  {
   "cell_type": "markdown",
   "id": "883bce97",
   "metadata": {},
   "source": [
    "The order doesn't matter. If cups `1`, `2`, `4`, `6`, `9`, `10`, `11` and `12`. are selected in order it is the same result as if `12`, `11`, `9`, `10`, `2`, `6`, `4` and `1`. were selected, or any other permutation.\n",
    "\n",
    "`1 2 4 6 9 10 11 12`\n",
    "\n",
    "`12 11 9 10 2 6 4`\n",
    "\n",
    "`_ _ _ _ _ _ _ _`"
   ]
  },
  {
   "cell_type": "code",
   "execution_count": 49,
   "id": "e5fd6af2",
   "metadata": {},
   "outputs": [
    {
     "data": {
      "text/plain": [
       "40320"
      ]
     },
     "execution_count": 49,
     "metadata": {},
     "output_type": "execute_result"
    }
   ],
   "source": [
    "# No of ways of shuffling 8 cups.\n",
    "no_shuffles_tea = 8 * 7 * 6 * 5 * 4 * 3 * 2 * 1\n",
    "\n",
    "# Show.\n",
    "no_shuffles_tea"
   ]
  },
  {
   "cell_type": "code",
   "execution_count": 50,
   "id": "2a7cddf8",
   "metadata": {},
   "outputs": [
    {
     "data": {
      "text/plain": [
       "495"
      ]
     },
     "execution_count": 50,
     "metadata": {},
     "output_type": "execute_result"
    }
   ],
   "source": [
    "# No of combinations ups with tea.\n",
    "no_comb_tea = ways_ordered_tea // no_shuffles_tea\n",
    "\n",
    "# Show.\n",
    "no_comb_tea"
   ]
  },
  {
   "cell_type": "markdown",
   "id": "b239a1ab",
   "metadata": {},
   "source": [
    "##### Select 4 cups to have milk first."
   ]
  },
  {
   "cell_type": "markdown",
   "id": "2c43f62b",
   "metadata": {},
   "source": [
    "Again, we have our labeled 12 cups of tea `1`, `2`, `3`, `4`, `5`, `6`, `7`, `8`, `9`, `10`, `11`, `12`. \n",
    "\n",
    "But now we select 4 cups to have milk in first. We start again, so we still have 12 cups.\n",
    "\n",
    "Let's select `3`, `5`, `7`, and `8`.\n",
    "\n",
    "We place them on the other four saucers where we place four cups on, where we guess the milk is first. \n",
    "\n",
    "How many ways are there to select 4 cups from 12?\n",
    "\n",
    "Cups: `1 2 3 4`\n",
    "\n",
    "Saucers: `_ _ _ _`"
   ]
  },
  {
   "cell_type": "code",
   "execution_count": 51,
   "id": "56145a13",
   "metadata": {},
   "outputs": [
    {
     "data": {
      "text/plain": [
       "11880"
      ]
     },
     "execution_count": 51,
     "metadata": {},
     "output_type": "execute_result"
    }
   ],
   "source": [
    "# Total number of ways of selecting 4 cups from 12, keeping them in order.\n",
    "ways_ordered_milk = 12 * 11 * 10 * 9\n",
    "\n",
    "# Show.\n",
    "ways_ordered_milk"
   ]
  },
  {
   "cell_type": "markdown",
   "id": "6f34d432",
   "metadata": {},
   "source": [
    "And again, the order doesn't matter. "
   ]
  },
  {
   "cell_type": "code",
   "execution_count": 52,
   "id": "0a3fe100",
   "metadata": {},
   "outputs": [
    {
     "data": {
      "text/plain": [
       "24"
      ]
     },
     "execution_count": 52,
     "metadata": {},
     "output_type": "execute_result"
    }
   ],
   "source": [
    "# No of ways of shuffling four cups.\n",
    "no_shuffles_milk = 4 * 3 * 2 * 1\n",
    "\n",
    "# Show.\n",
    "no_shuffles_milk"
   ]
  },
  {
   "cell_type": "code",
   "execution_count": 53,
   "id": "cfba4f4b",
   "metadata": {},
   "outputs": [
    {
     "data": {
      "text/plain": [
       "495"
      ]
     },
     "execution_count": 53,
     "metadata": {},
     "output_type": "execute_result"
    }
   ],
   "source": [
    "# No of combinations milk.\n",
    "no_combs = ways_ordered_milk // no_shuffles_milk\n",
    "\n",
    "# Show.\n",
    "no_combs"
   ]
  },
  {
   "cell_type": "markdown",
   "id": "426e91ee",
   "metadata": {},
   "source": [
    "There are 495 ways to select 8 cups with tea, which is similar as choosing 4 cups with milk. It is just viewed from the opposite perspective."
   ]
  },
  {
   "cell_type": "markdown",
   "id": "477cdc98",
   "metadata": {},
   "source": [
    "\n",
    "In mathematics, the `math.comb()` function is called the *choose* function.\n",
    "\n",
    "It is written and calculated as\n",
    "\n",
    "$\\binom{n}{k} = \\frac{n!}{k!(n-k)!}$."
   ]
  },
  {
   "cell_type": "code",
   "execution_count": 54,
   "id": "66393d7f",
   "metadata": {},
   "outputs": [],
   "source": [
    "# Number of cups of tea in total.\n",
    "n = 12"
   ]
  },
  {
   "cell_type": "code",
   "execution_count": 55,
   "id": "ac31edeb",
   "metadata": {},
   "outputs": [],
   "source": [
    "# Number of cups of tea with milk in first.\n",
    "k = 8"
   ]
  },
  {
   "cell_type": "markdown",
   "id": "aa6d3a7f",
   "metadata": {},
   "source": [
    "## math.factorial\n",
    "\n",
    "https://docs.python.org/3.12/library/math.html#math.factorial\n",
    "\n",
    "Mathematically denoted as `n!`.\n",
    "\n",
    "Multiply all positive integers from `n` down to 1.\n",
    "\n",
    "\n",
    "`n! = n x (n - 1) x (n - 2) x ... x 1`\n",
    "\n",
    "e.g. `5! = 5 x 4 x 3 x 2 x 1 = 120`"
   ]
  },
  {
   "cell_type": "code",
   "execution_count": 56,
   "id": "8ea27406",
   "metadata": {},
   "outputs": [
    {
     "data": {
      "text/plain": [
       "479001600"
      ]
     },
     "execution_count": 56,
     "metadata": {},
     "output_type": "execute_result"
    }
   ],
   "source": [
    "# Twelve factorial.\n",
    "math.factorial(n)"
   ]
  },
  {
   "cell_type": "code",
   "execution_count": 58,
   "id": "73c5b978",
   "metadata": {},
   "outputs": [
    {
     "data": {
      "text/plain": [
       "40320"
      ]
     },
     "execution_count": 58,
     "metadata": {},
     "output_type": "execute_result"
    }
   ],
   "source": [
    "# Four factorial.\n",
    "math.factorial(k)"
   ]
  },
  {
   "cell_type": "code",
   "execution_count": 59,
   "id": "8519d579",
   "metadata": {},
   "outputs": [
    {
     "data": {
      "text/plain": [
       "24"
      ]
     },
     "execution_count": 59,
     "metadata": {},
     "output_type": "execute_result"
    }
   ],
   "source": [
    "# Four factorial.\n",
    "math.factorial(n - k)"
   ]
  },
  {
   "cell_type": "code",
   "execution_count": 60,
   "id": "cd96c35a",
   "metadata": {},
   "outputs": [
    {
     "data": {
      "text/plain": [
       "495"
      ]
     },
     "execution_count": 60,
     "metadata": {},
     "output_type": "execute_result"
    }
   ],
   "source": [
    "# No of ways of selecting k objects from n without replacement and without order.\n",
    "math.factorial(n) // (math.factorial(k) * math.factorial(n - k))"
   ]
  },
  {
   "cell_type": "markdown",
   "id": "3d854db0",
   "metadata": {},
   "source": []
  },
  {
   "cell_type": "markdown",
   "id": "7224060e",
   "metadata": {},
   "source": [
    "## Problem 2: Normal Distribution\n",
    "\n",
    "Generate 100,000 samples of size 10 from the standard normal distribution. For each sample, compute the standard deviation with ddof=1 (sample SD) and with ddof=0 (population SD). Plot histograms of both sets of values on the same axes with transparency. Describe the differences you see. Explain how you expect these differences to change if the sample size is increased."
   ]
  },
  {
   "cell_type": "markdown",
   "id": "e0e0e9fd",
   "metadata": {},
   "source": [
    "## Problem 3: t-Tests\n",
    "\n",
    "A type II error occurs when a test fails to reject the null hypothesis even though it is false. For each mean difference\n",
    "$ d =0,0.1,0.2,…,1.0 $, repeat the following simulation 1,000 times:\n",
    "\n",
    "\n",
    "* Draw two samples of size 100, one from the standard normal distribution and one from the normal distribution with mean $d$ and standard deviation 1.\n",
    "* Run an independent samples t-test on the two samples, rejecting the null hypothesis if the p-value is less than 0.05.\n",
    "* Record the proportion of times the null hypothesis is not rejected.\n",
    "\n",
    "\n",
    "Plot this proportion against $d$, and explain how the type II error rate changes as the difference in means increases."
   ]
  },
  {
   "cell_type": "markdown",
   "id": "27a21caf",
   "metadata": {},
   "source": [
    "## Problem 4: ANOVA\n",
    "\n",
    "Generate three independent samples, each of size 30, from normal distributions with means 0, 0.5, and 1, each with standard deviation 1.\n",
    "\n",
    "* Perform a one-way ANOVA to test whether all three means are equal.\n",
    "* Perform three independent two-sample t-tests: samples 1 vs 2, 1 vs 3, and 2 vs 3.\n",
    "* Compare the conclusions.\n",
    "\n",
    "Write a short note on why ANOVA is preferred over running several t-tests."
   ]
  },
  {
   "cell_type": "markdown",
   "id": "3f843419",
   "metadata": {},
   "source": [
    "Importing nessesary libraries"
   ]
  },
  {
   "cell_type": "code",
   "execution_count": 57,
   "id": "d30588d1",
   "metadata": {},
   "outputs": [],
   "source": [
    "import numpy as np"
   ]
  },
  {
   "cell_type": "markdown",
   "id": "1e3f5666",
   "metadata": {},
   "source": [
    "***\n",
    "End"
   ]
  }
 ],
 "metadata": {
  "kernelspec": {
   "display_name": "base",
   "language": "python",
   "name": "python3"
  },
  "language_info": {
   "codemirror_mode": {
    "name": "ipython",
    "version": 3
   },
   "file_extension": ".py",
   "mimetype": "text/x-python",
   "name": "python",
   "nbconvert_exporter": "python",
   "pygments_lexer": "ipython3",
   "version": "3.11.10"
  }
 },
 "nbformat": 4,
 "nbformat_minor": 5
}
