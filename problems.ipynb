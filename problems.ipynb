{
 "cells": [
  {
   "cell_type": "markdown",
   "id": "f0ad2c58",
   "metadata": {},
   "source": [
    "# Problems Notebook"
   ]
  },
  {
   "cell_type": "markdown",
   "id": "ea4dc1f0",
   "metadata": {},
   "source": [
    "This notebook contains my work of the assessment in Applied Statistics module in the Higher Diploma in Data Analytics course. \n",
    "The notebook covers four main problems: \n",
    "\n",
    "\n"
   ]
  },
  {
   "cell_type": "markdown",
   "id": "7dd36cf9",
   "metadata": {},
   "source": [
    "## Problem 1: Extending the Lady Tasting Tea:\n",
    "\n",
    "Let's extend the Lady Tasting Tea experiment as follows. The original experiment has 8 cups: 4 tea-first and 4 milk-first. Suppose we prepare 12 cups: 8 tea-first and 4 milk-first. A participant claims they can tell which was poured first.\n",
    "\n",
    "Simulate this experiment using numpy by randomly shuffling the cups many times and calculating the probability of the participant correctly identifying all cups by chance. Compare your result with the original 8-cup experiment.\n",
    "\n",
    "In your notebook, explain your simulation process clearly, report and interpret the estimated probability, and discuss whether, based on this probability, you would consider extending or relaxing the p-value threshold compared to the original design."
   ]
  },
  {
   "cell_type": "markdown",
   "id": "7224060e",
   "metadata": {},
   "source": [
    "## Problem 2: Normal Distribution\n",
    "\n",
    "Generate 100,000 samples of size 10 from the standard normal distribution. For each sample, compute the standard deviation with ddof=1 (sample SD) and with ddof=0 (population SD). Plot histograms of both sets of values on the same axes with transparency. Describe the differences you see. Explain how you expect these differences to change if the sample size is increased."
   ]
  },
  {
   "cell_type": "markdown",
   "id": "e0e0e9fd",
   "metadata": {},
   "source": [
    "## Problem 3: t-Tests\n",
    "\n",
    "A type II error occurs when a test fails to reject the null hypothesis even though it is false. For each mean difference\n",
    "$ d =0,0.1,0.2,…,1.0 $, repeat the following simulation 1,000 times:\n",
    "\n",
    "\n",
    "* Draw two samples of size 100, one from the standard normal distribution and one from the normal distribution with mean $d$ and standard deviation 1.\n",
    "* Run an independent samples t-test on the two samples, rejecting the null hypothesis if the p-value is less than 0.05.\n",
    "* Record the proportion of times the null hypothesis is not rejected.\n",
    "\n",
    "\n",
    "Plot this proportion against $d$, and explain how the type II error rate changes as the difference in means increases."
   ]
  },
  {
   "cell_type": "markdown",
   "id": "3f843419",
   "metadata": {},
   "source": [
    "Importing nessesary libraries"
   ]
  },
  {
   "cell_type": "code",
   "execution_count": 1,
   "id": "d30588d1",
   "metadata": {},
   "outputs": [],
   "source": [
    "import numpy as np"
   ]
  },
  {
   "cell_type": "code",
   "execution_count": null,
   "id": "f0e76130",
   "metadata": {},
   "outputs": [],
   "source": []
  },
  {
   "cell_type": "markdown",
   "id": "1e3f5666",
   "metadata": {},
   "source": [
    "***\n",
    "End"
   ]
  }
 ],
 "metadata": {
  "kernelspec": {
   "display_name": "base",
   "language": "python",
   "name": "python3"
  },
  "language_info": {
   "codemirror_mode": {
    "name": "ipython",
    "version": 3
   },
   "file_extension": ".py",
   "mimetype": "text/x-python",
   "name": "python",
   "nbconvert_exporter": "python",
   "pygments_lexer": "ipython3",
   "version": "3.11.10"
  }
 },
 "nbformat": 4,
 "nbformat_minor": 5
}
