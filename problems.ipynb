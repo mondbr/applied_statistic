{
 "cells": [
  {
   "cell_type": "markdown",
   "id": "f0ad2c58",
   "metadata": {},
   "source": [
    "# Problems Notebook"
   ]
  }
 ],
 "metadata": {
  "language_info": {
   "name": "python"
  }
 },
 "nbformat": 4,
 "nbformat_minor": 5
}
