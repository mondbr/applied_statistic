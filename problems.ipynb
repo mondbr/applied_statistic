{
 "cells": [
  {
   "cell_type": "markdown",
   "id": "f0ad2c58",
   "metadata": {},
   "source": [
    "# Problems Notebook"
   ]
  },
  {
   "cell_type": "markdown",
   "id": "ea4dc1f0",
   "metadata": {},
   "source": [
    "This notebook contains my work of the assessment in Applied Statistics module in the Higher Diploma in Data Analytics course. \n",
    "The notebook covers four main problems: \n",
    "\n",
    "\n"
   ]
  },
  {
   "cell_type": "markdown",
   "id": "7dd36cf9",
   "metadata": {},
   "source": [
    "## Problem 1: Extending the Lady Tasting Tea:\n",
    "\n",
    "Let's extend the Lady Tasting Tea experiment as follows. The original experiment has 8 cups: 4 tea-first and 4 milk-first. Suppose we prepare 12 cups: 8 tea-first and 4 milk-first. A participant claims they can tell which was poured first.\n",
    "\n",
    "Simulate this experiment using numpy by randomly shuffling the cups many times and calculating the probability of the participant correctly identifying all cups by chance. Compare your result with the original 8-cup experiment.\n",
    "\n",
    "In your notebook, explain your simulation process clearly, report and interpret the estimated probability, and discuss whether, based on this probability, you would consider extending or relaxing the p-value threshold compared to the original design."
   ]
  },
  {
   "cell_type": "markdown",
   "id": "5e944992",
   "metadata": {},
   "source": [
    "### Solution to the Problem 1"
   ]
  },
  {
   "cell_type": "code",
   "execution_count": 142,
   "id": "6781f60d",
   "metadata": {},
   "outputs": [],
   "source": [
    "# Import necessary libraries\n",
    "\n",
    "# for mathematical functions\n",
    "# see https://docs.python.org/3/library/math.html\n",
    "import math\n",
    "\n",
    "# for combinatorial functions\n",
    "# see https://docs.python.org/3/library/itertools.html\n",
    "import itertools\n",
    "\n",
    "# for random number generation\n",
    "# see https://www.w3schools.com/python/module_random.asp\n",
    "import random\n",
    "\n",
    "# for numerical operations\n",
    "# see https://www.w3schools.com/python/numpy/numpy_intro.asp\n",
    "import numpy as np\n",
    "\n",
    "# for data visualization and plotting\n",
    "# see https://www.w3schools.com/python/matplotlib_pyplot.asp\n",
    "import matplotlib.pyplot as plt"
   ]
  },
  {
   "cell_type": "markdown",
   "id": "5e8c7071",
   "metadata": {},
   "source": [
    "#### Mathematical Concepts"
   ]
  },
  {
   "cell_type": "markdown",
   "id": "8d5a7e90",
   "metadata": {},
   "source": [
    "https://docs.python.org/3/library/math.html#math.comb"
   ]
  },
  {
   "cell_type": "markdown",
   "id": "36cd2794",
   "metadata": {},
   "source": [
    "#### Cups of Tea in Original Experiment"
   ]
  },
  {
   "cell_type": "code",
   "execution_count": 143,
   "id": "c37bfae4",
   "metadata": {},
   "outputs": [],
   "source": [
    "# Number of cups of tea. All cups are identical. \n",
    "num_cups= 8\n",
    "\n",
    "# Number of cups with tea first\n",
    "num_tea_first = 4\n",
    "\n",
    "# Number of cups with milk first\n",
    "num_milk_first= 4"
   ]
  },
  {
   "cell_type": "code",
   "execution_count": 144,
   "id": "b6f1ef47",
   "metadata": {},
   "outputs": [
    {
     "name": "stdout",
     "output_type": "stream",
     "text": [
      "Number of ways to select cups is 70\n"
     ]
    }
   ],
   "source": [
    "# Number of ways to select 8 cups from 12\n",
    "\n",
    "tea_ways = math.comb(num_cups, num_tea_first)\n",
    "\n",
    "print(f'Number of ways to select cups is {tea_ways}')"
   ]
  },
  {
   "cell_type": "markdown",
   "id": "384d3ff4",
   "metadata": {},
   "source": [
    "#### Cups of Tea in Extended Experiment"
   ]
  },
  {
   "cell_type": "code",
   "execution_count": 145,
   "id": "d60ef702",
   "metadata": {},
   "outputs": [],
   "source": [
    "# Number of cups of tea. All cups are identical. \n",
    "num_cups_ex = 12\n",
    "\n",
    "# Number of cups with tea first\n",
    "num_tea_first_ex = 8\n",
    "\n",
    "# Number of cups with milk first\n",
    "num_milk_first_ex = 4"
   ]
  },
  {
   "cell_type": "code",
   "execution_count": 146,
   "id": "94ecf41b",
   "metadata": {},
   "outputs": [
    {
     "name": "stdout",
     "output_type": "stream",
     "text": [
      "Number of ways to select cups is 495\n"
     ]
    }
   ],
   "source": [
    "# Number of ways to select 8 cups from 12\n",
    "\n",
    "tea_ways_ex = math.comb(num_cups_ex, num_tea_first_ex)\n",
    "\n",
    "print(f'Number of ways to select cups is {tea_ways_ex}')"
   ]
  },
  {
   "cell_type": "code",
   "execution_count": 147,
   "id": "c91014e2",
   "metadata": {},
   "outputs": [
    {
     "name": "stdout",
     "output_type": "stream",
     "text": [
      "Number of ways to select cups is 495\n"
     ]
    }
   ],
   "source": [
    "# number of ways to select 4 cups from 12\n",
    "milk_ways_ex = math.comb(num_cups_ex, num_milk_first_ex)\n",
    "\n",
    "print(f'Number of ways to select cups is {milk_ways_ex}')"
   ]
  },
  {
   "cell_type": "markdown",
   "id": "6052c395",
   "metadata": {},
   "source": [
    "Both results shows 495, however these results are not exaclty the same. \n",
    "\n",
    "If we choose 8 cups to have tea first, it leaves us with remaining 4 cups with milk. If we choose 4 cups with milk, we will have 8 cups remaining. "
   ]
  },
  {
   "cell_type": "markdown",
   "id": "e1703e7f",
   "metadata": {},
   "source": [
    "Let's check that carefully. "
   ]
  },
  {
   "cell_type": "markdown",
   "id": "947c478f",
   "metadata": {},
   "source": [
    "##### Select 8 cups to have tea first."
   ]
  },
  {
   "cell_type": "markdown",
   "id": "ea6b53c9",
   "metadata": {},
   "source": [
    "Label the 12 cups of tea from the extened experiment `1`, `2`, `3`, `4`, `5`, `6`, `7`, `8`, `9`, `10`, `11`, `12`. \n",
    "\n",
    "We select 8 cups to have tea in first.\n",
    "\n",
    "For example, we might select `1`, `2`, `4`, `6`, `9`, `10`, `11` and `12`.\n",
    "\n",
    "Visualize having eight saucers where we place eight of the cups.\n",
    "\n",
    "How many ways are there to select 8 cups from 12?\n",
    "\n",
    "Cups: `1 2 3 4 5 6 7 8 9 10 11 12`\n",
    "\n",
    "Saucers: `_ _ _ _ _ _ _ _`"
   ]
  },
  {
   "cell_type": "code",
   "execution_count": 148,
   "id": "85f509d8",
   "metadata": {},
   "outputs": [
    {
     "data": {
      "text/plain": [
       "19958400"
      ]
     },
     "execution_count": 148,
     "metadata": {},
     "output_type": "execute_result"
    }
   ],
   "source": [
    "# Total number of ways of selecting 8 cups from 12, keeping them in order.\n",
    "ways_ordered_tea = 12 * 11 * 10 * 9 * 8 * 7 * 6 * 5\n",
    "\n",
    "# Show.\n",
    "ways_ordered_tea"
   ]
  },
  {
   "cell_type": "markdown",
   "id": "883bce97",
   "metadata": {},
   "source": [
    "The order doesn't matter. If cups `1`, `2`, `4`, `6`, `9`, `10`, `11` and `12`. are selected in order it is the same result as if `12`, `11`, `9`, `10`, `2`, `6`, `4` and `1`. were selected, or any other permutation.\n",
    "\n",
    "`1 2 4 6 9 10 11 12`\n",
    "\n",
    "`12 11 9 10 2 6 4`\n",
    "\n",
    "`_ _ _ _ _ _ _ _`"
   ]
  },
  {
   "cell_type": "code",
   "execution_count": 149,
   "id": "e5fd6af2",
   "metadata": {},
   "outputs": [
    {
     "data": {
      "text/plain": [
       "40320"
      ]
     },
     "execution_count": 149,
     "metadata": {},
     "output_type": "execute_result"
    }
   ],
   "source": [
    "# No of ways of shuffling 8 cups.\n",
    "no_shuffles_tea = 8 * 7 * 6 * 5 * 4 * 3 * 2 * 1\n",
    "\n",
    "# Show.\n",
    "no_shuffles_tea"
   ]
  },
  {
   "cell_type": "code",
   "execution_count": 150,
   "id": "2a7cddf8",
   "metadata": {},
   "outputs": [
    {
     "data": {
      "text/plain": [
       "495"
      ]
     },
     "execution_count": 150,
     "metadata": {},
     "output_type": "execute_result"
    }
   ],
   "source": [
    "# No of combinations ups with tea.\n",
    "no_comb_tea = ways_ordered_tea // no_shuffles_tea\n",
    "\n",
    "# Show.\n",
    "no_comb_tea"
   ]
  },
  {
   "cell_type": "markdown",
   "id": "b239a1ab",
   "metadata": {},
   "source": [
    "##### Select 4 cups to have milk first."
   ]
  },
  {
   "cell_type": "markdown",
   "id": "2c43f62b",
   "metadata": {},
   "source": [
    "Again, we have our labeled 12 cups of tea `1`, `2`, `3`, `4`, `5`, `6`, `7`, `8`, `9`, `10`, `11`, `12`. \n",
    "\n",
    "But now we select 4 cups to have milk in first. We start again, so we still have 12 cups.\n",
    "\n",
    "Let's select `3`, `5`, `7`, and `8`.\n",
    "\n",
    "We place them on the other four saucers where we place four cups on, where we guess the milk is first. \n",
    "\n",
    "How many ways are there to select 4 cups from 12?\n",
    "\n",
    "Cups: `1 2 3 4`\n",
    "\n",
    "Saucers: `_ _ _ _`"
   ]
  },
  {
   "cell_type": "code",
   "execution_count": 151,
   "id": "56145a13",
   "metadata": {},
   "outputs": [
    {
     "data": {
      "text/plain": [
       "11880"
      ]
     },
     "execution_count": 151,
     "metadata": {},
     "output_type": "execute_result"
    }
   ],
   "source": [
    "# Total number of ways of selecting 4 cups from 12, keeping them in order.\n",
    "ways_ordered_milk = 12 * 11 * 10 * 9\n",
    "\n",
    "# Show.\n",
    "ways_ordered_milk"
   ]
  },
  {
   "cell_type": "markdown",
   "id": "6f34d432",
   "metadata": {},
   "source": [
    "And again, the order doesn't matter. "
   ]
  },
  {
   "cell_type": "code",
   "execution_count": 152,
   "id": "0a3fe100",
   "metadata": {},
   "outputs": [
    {
     "data": {
      "text/plain": [
       "24"
      ]
     },
     "execution_count": 152,
     "metadata": {},
     "output_type": "execute_result"
    }
   ],
   "source": [
    "# No of ways of shuffling four cups.\n",
    "no_shuffles_milk = 4 * 3 * 2 * 1\n",
    "\n",
    "# Show.\n",
    "no_shuffles_milk"
   ]
  },
  {
   "cell_type": "code",
   "execution_count": 153,
   "id": "cfba4f4b",
   "metadata": {},
   "outputs": [
    {
     "data": {
      "text/plain": [
       "495"
      ]
     },
     "execution_count": 153,
     "metadata": {},
     "output_type": "execute_result"
    }
   ],
   "source": [
    "# No of combinations milk.\n",
    "no_combs_ex = ways_ordered_milk // no_shuffles_milk\n",
    "\n",
    "# Show.\n",
    "no_combs_ex"
   ]
  },
  {
   "cell_type": "markdown",
   "id": "426e91ee",
   "metadata": {},
   "source": [
    "There are 495 ways to select 8 cups with tea, which is similar as choosing 4 cups with milk. It is just viewed from the opposite perspective."
   ]
  },
  {
   "cell_type": "markdown",
   "id": "477cdc98",
   "metadata": {},
   "source": [
    "\n",
    "In mathematics, the `math.comb()` function is called the *choose* function.\n",
    "\n",
    "It is written and calculated as\n",
    "\n",
    "$\\binom{n}{k} = \\frac{n!}{k!(n-k)!}$."
   ]
  },
  {
   "cell_type": "code",
   "execution_count": 154,
   "id": "66393d7f",
   "metadata": {},
   "outputs": [],
   "source": [
    "# Number of cups of tea in total.\n",
    "n = 12"
   ]
  },
  {
   "cell_type": "code",
   "execution_count": 155,
   "id": "ac31edeb",
   "metadata": {},
   "outputs": [],
   "source": [
    "# Number of cups of tea with milk in first.\n",
    "k = 8"
   ]
  },
  {
   "cell_type": "markdown",
   "id": "aa6d3a7f",
   "metadata": {},
   "source": [
    "## math.factorial\n",
    "\n",
    "https://docs.python.org/3.12/library/math.html#math.factorial\n",
    "\n",
    "Mathematically denoted as `n!`.\n",
    "\n",
    "Multiply all positive integers from `n` down to 1.\n",
    "\n",
    "\n",
    "`n! = n x (n - 1) x (n - 2) x ... x 1`\n",
    "\n",
    "e.g. `5! = 5 x 4 x 3 x 2 x 1 = 120`"
   ]
  },
  {
   "cell_type": "code",
   "execution_count": 156,
   "id": "8ea27406",
   "metadata": {},
   "outputs": [
    {
     "data": {
      "text/plain": [
       "479001600"
      ]
     },
     "execution_count": 156,
     "metadata": {},
     "output_type": "execute_result"
    }
   ],
   "source": [
    "# Twelve factorial.\n",
    "math.factorial(n)"
   ]
  },
  {
   "cell_type": "code",
   "execution_count": 157,
   "id": "73c5b978",
   "metadata": {},
   "outputs": [
    {
     "data": {
      "text/plain": [
       "40320"
      ]
     },
     "execution_count": 157,
     "metadata": {},
     "output_type": "execute_result"
    }
   ],
   "source": [
    "# Four factorial.\n",
    "math.factorial(k)"
   ]
  },
  {
   "cell_type": "code",
   "execution_count": 158,
   "id": "8519d579",
   "metadata": {},
   "outputs": [
    {
     "data": {
      "text/plain": [
       "24"
      ]
     },
     "execution_count": 158,
     "metadata": {},
     "output_type": "execute_result"
    }
   ],
   "source": [
    "# Four factorial.\n",
    "math.factorial(n - k)"
   ]
  },
  {
   "cell_type": "code",
   "execution_count": 159,
   "id": "cd96c35a",
   "metadata": {},
   "outputs": [
    {
     "data": {
      "text/plain": [
       "495"
      ]
     },
     "execution_count": 159,
     "metadata": {},
     "output_type": "execute_result"
    }
   ],
   "source": [
    "# No of ways of selecting k objects from n without replacement and without order.\n",
    "math.factorial(n) // (math.factorial(k) * math.factorial(n - k))"
   ]
  },
  {
   "cell_type": "markdown",
   "id": "3d854db0",
   "metadata": {},
   "source": [
    "### Ordering of Results\n",
    "\n",
    "\n",
    "https://docs.python.org/3/library/itertools.html#itertools.combinations"
   ]
  },
  {
   "cell_type": "markdown",
   "id": "4745cd24",
   "metadata": {},
   "source": [
    "Generate the possibilities "
   ]
  },
  {
   "cell_type": "code",
   "execution_count": 160,
   "id": "aa99bf98",
   "metadata": {},
   "outputs": [
    {
     "data": {
      "text/plain": [
       "[0, 1, 2, 3, 4, 5, 6, 7, 8, 9, 10, 11]"
      ]
     },
     "execution_count": 160,
     "metadata": {},
     "output_type": "execute_result"
    }
   ],
   "source": [
    "# the cup labels\n",
    "labels = list(range(num_cups_ex))\n",
    "\n",
    "# show\n",
    "labels\n",
    "\n"
   ]
  },
  {
   "cell_type": "code",
   "execution_count": 161,
   "id": "533c3d97",
   "metadata": {},
   "outputs": [
    {
     "data": {
      "text/plain": [
       "[(0, 1, 2, 3, 4, 5, 6, 7),\n",
       " (0, 1, 2, 3, 4, 5, 6, 8),\n",
       " (0, 1, 2, 3, 4, 5, 6, 9),\n",
       " (0, 1, 2, 3, 4, 5, 6, 10),\n",
       " (0, 1, 2, 3, 4, 5, 6, 11),\n",
       " (0, 1, 2, 3, 4, 5, 7, 8),\n",
       " (0, 1, 2, 3, 4, 5, 7, 9),\n",
       " (0, 1, 2, 3, 4, 5, 7, 10),\n",
       " (0, 1, 2, 3, 4, 5, 7, 11),\n",
       " (0, 1, 2, 3, 4, 5, 8, 9),\n",
       " (0, 1, 2, 3, 4, 5, 8, 10),\n",
       " (0, 1, 2, 3, 4, 5, 8, 11),\n",
       " (0, 1, 2, 3, 4, 5, 9, 10),\n",
       " (0, 1, 2, 3, 4, 5, 9, 11),\n",
       " (0, 1, 2, 3, 4, 5, 10, 11),\n",
       " (0, 1, 2, 3, 4, 6, 7, 8),\n",
       " (0, 1, 2, 3, 4, 6, 7, 9),\n",
       " (0, 1, 2, 3, 4, 6, 7, 10),\n",
       " (0, 1, 2, 3, 4, 6, 7, 11),\n",
       " (0, 1, 2, 3, 4, 6, 8, 9),\n",
       " (0, 1, 2, 3, 4, 6, 8, 10),\n",
       " (0, 1, 2, 3, 4, 6, 8, 11),\n",
       " (0, 1, 2, 3, 4, 6, 9, 10),\n",
       " (0, 1, 2, 3, 4, 6, 9, 11),\n",
       " (0, 1, 2, 3, 4, 6, 10, 11),\n",
       " (0, 1, 2, 3, 4, 7, 8, 9),\n",
       " (0, 1, 2, 3, 4, 7, 8, 10),\n",
       " (0, 1, 2, 3, 4, 7, 8, 11),\n",
       " (0, 1, 2, 3, 4, 7, 9, 10),\n",
       " (0, 1, 2, 3, 4, 7, 9, 11),\n",
       " (0, 1, 2, 3, 4, 7, 10, 11),\n",
       " (0, 1, 2, 3, 4, 8, 9, 10),\n",
       " (0, 1, 2, 3, 4, 8, 9, 11),\n",
       " (0, 1, 2, 3, 4, 8, 10, 11),\n",
       " (0, 1, 2, 3, 4, 9, 10, 11),\n",
       " (0, 1, 2, 3, 5, 6, 7, 8),\n",
       " (0, 1, 2, 3, 5, 6, 7, 9),\n",
       " (0, 1, 2, 3, 5, 6, 7, 10),\n",
       " (0, 1, 2, 3, 5, 6, 7, 11),\n",
       " (0, 1, 2, 3, 5, 6, 8, 9),\n",
       " (0, 1, 2, 3, 5, 6, 8, 10),\n",
       " (0, 1, 2, 3, 5, 6, 8, 11),\n",
       " (0, 1, 2, 3, 5, 6, 9, 10),\n",
       " (0, 1, 2, 3, 5, 6, 9, 11),\n",
       " (0, 1, 2, 3, 5, 6, 10, 11),\n",
       " (0, 1, 2, 3, 5, 7, 8, 9),\n",
       " (0, 1, 2, 3, 5, 7, 8, 10),\n",
       " (0, 1, 2, 3, 5, 7, 8, 11),\n",
       " (0, 1, 2, 3, 5, 7, 9, 10),\n",
       " (0, 1, 2, 3, 5, 7, 9, 11),\n",
       " (0, 1, 2, 3, 5, 7, 10, 11),\n",
       " (0, 1, 2, 3, 5, 8, 9, 10),\n",
       " (0, 1, 2, 3, 5, 8, 9, 11),\n",
       " (0, 1, 2, 3, 5, 8, 10, 11),\n",
       " (0, 1, 2, 3, 5, 9, 10, 11),\n",
       " (0, 1, 2, 3, 6, 7, 8, 9),\n",
       " (0, 1, 2, 3, 6, 7, 8, 10),\n",
       " (0, 1, 2, 3, 6, 7, 8, 11),\n",
       " (0, 1, 2, 3, 6, 7, 9, 10),\n",
       " (0, 1, 2, 3, 6, 7, 9, 11),\n",
       " (0, 1, 2, 3, 6, 7, 10, 11),\n",
       " (0, 1, 2, 3, 6, 8, 9, 10),\n",
       " (0, 1, 2, 3, 6, 8, 9, 11),\n",
       " (0, 1, 2, 3, 6, 8, 10, 11),\n",
       " (0, 1, 2, 3, 6, 9, 10, 11),\n",
       " (0, 1, 2, 3, 7, 8, 9, 10),\n",
       " (0, 1, 2, 3, 7, 8, 9, 11),\n",
       " (0, 1, 2, 3, 7, 8, 10, 11),\n",
       " (0, 1, 2, 3, 7, 9, 10, 11),\n",
       " (0, 1, 2, 3, 8, 9, 10, 11),\n",
       " (0, 1, 2, 4, 5, 6, 7, 8),\n",
       " (0, 1, 2, 4, 5, 6, 7, 9),\n",
       " (0, 1, 2, 4, 5, 6, 7, 10),\n",
       " (0, 1, 2, 4, 5, 6, 7, 11),\n",
       " (0, 1, 2, 4, 5, 6, 8, 9),\n",
       " (0, 1, 2, 4, 5, 6, 8, 10),\n",
       " (0, 1, 2, 4, 5, 6, 8, 11),\n",
       " (0, 1, 2, 4, 5, 6, 9, 10),\n",
       " (0, 1, 2, 4, 5, 6, 9, 11),\n",
       " (0, 1, 2, 4, 5, 6, 10, 11),\n",
       " (0, 1, 2, 4, 5, 7, 8, 9),\n",
       " (0, 1, 2, 4, 5, 7, 8, 10),\n",
       " (0, 1, 2, 4, 5, 7, 8, 11),\n",
       " (0, 1, 2, 4, 5, 7, 9, 10),\n",
       " (0, 1, 2, 4, 5, 7, 9, 11),\n",
       " (0, 1, 2, 4, 5, 7, 10, 11),\n",
       " (0, 1, 2, 4, 5, 8, 9, 10),\n",
       " (0, 1, 2, 4, 5, 8, 9, 11),\n",
       " (0, 1, 2, 4, 5, 8, 10, 11),\n",
       " (0, 1, 2, 4, 5, 9, 10, 11),\n",
       " (0, 1, 2, 4, 6, 7, 8, 9),\n",
       " (0, 1, 2, 4, 6, 7, 8, 10),\n",
       " (0, 1, 2, 4, 6, 7, 8, 11),\n",
       " (0, 1, 2, 4, 6, 7, 9, 10),\n",
       " (0, 1, 2, 4, 6, 7, 9, 11),\n",
       " (0, 1, 2, 4, 6, 7, 10, 11),\n",
       " (0, 1, 2, 4, 6, 8, 9, 10),\n",
       " (0, 1, 2, 4, 6, 8, 9, 11),\n",
       " (0, 1, 2, 4, 6, 8, 10, 11),\n",
       " (0, 1, 2, 4, 6, 9, 10, 11),\n",
       " (0, 1, 2, 4, 7, 8, 9, 10),\n",
       " (0, 1, 2, 4, 7, 8, 9, 11),\n",
       " (0, 1, 2, 4, 7, 8, 10, 11),\n",
       " (0, 1, 2, 4, 7, 9, 10, 11),\n",
       " (0, 1, 2, 4, 8, 9, 10, 11),\n",
       " (0, 1, 2, 5, 6, 7, 8, 9),\n",
       " (0, 1, 2, 5, 6, 7, 8, 10),\n",
       " (0, 1, 2, 5, 6, 7, 8, 11),\n",
       " (0, 1, 2, 5, 6, 7, 9, 10),\n",
       " (0, 1, 2, 5, 6, 7, 9, 11),\n",
       " (0, 1, 2, 5, 6, 7, 10, 11),\n",
       " (0, 1, 2, 5, 6, 8, 9, 10),\n",
       " (0, 1, 2, 5, 6, 8, 9, 11),\n",
       " (0, 1, 2, 5, 6, 8, 10, 11),\n",
       " (0, 1, 2, 5, 6, 9, 10, 11),\n",
       " (0, 1, 2, 5, 7, 8, 9, 10),\n",
       " (0, 1, 2, 5, 7, 8, 9, 11),\n",
       " (0, 1, 2, 5, 7, 8, 10, 11),\n",
       " (0, 1, 2, 5, 7, 9, 10, 11),\n",
       " (0, 1, 2, 5, 8, 9, 10, 11),\n",
       " (0, 1, 2, 6, 7, 8, 9, 10),\n",
       " (0, 1, 2, 6, 7, 8, 9, 11),\n",
       " (0, 1, 2, 6, 7, 8, 10, 11),\n",
       " (0, 1, 2, 6, 7, 9, 10, 11),\n",
       " (0, 1, 2, 6, 8, 9, 10, 11),\n",
       " (0, 1, 2, 7, 8, 9, 10, 11),\n",
       " (0, 1, 3, 4, 5, 6, 7, 8),\n",
       " (0, 1, 3, 4, 5, 6, 7, 9),\n",
       " (0, 1, 3, 4, 5, 6, 7, 10),\n",
       " (0, 1, 3, 4, 5, 6, 7, 11),\n",
       " (0, 1, 3, 4, 5, 6, 8, 9),\n",
       " (0, 1, 3, 4, 5, 6, 8, 10),\n",
       " (0, 1, 3, 4, 5, 6, 8, 11),\n",
       " (0, 1, 3, 4, 5, 6, 9, 10),\n",
       " (0, 1, 3, 4, 5, 6, 9, 11),\n",
       " (0, 1, 3, 4, 5, 6, 10, 11),\n",
       " (0, 1, 3, 4, 5, 7, 8, 9),\n",
       " (0, 1, 3, 4, 5, 7, 8, 10),\n",
       " (0, 1, 3, 4, 5, 7, 8, 11),\n",
       " (0, 1, 3, 4, 5, 7, 9, 10),\n",
       " (0, 1, 3, 4, 5, 7, 9, 11),\n",
       " (0, 1, 3, 4, 5, 7, 10, 11),\n",
       " (0, 1, 3, 4, 5, 8, 9, 10),\n",
       " (0, 1, 3, 4, 5, 8, 9, 11),\n",
       " (0, 1, 3, 4, 5, 8, 10, 11),\n",
       " (0, 1, 3, 4, 5, 9, 10, 11),\n",
       " (0, 1, 3, 4, 6, 7, 8, 9),\n",
       " (0, 1, 3, 4, 6, 7, 8, 10),\n",
       " (0, 1, 3, 4, 6, 7, 8, 11),\n",
       " (0, 1, 3, 4, 6, 7, 9, 10),\n",
       " (0, 1, 3, 4, 6, 7, 9, 11),\n",
       " (0, 1, 3, 4, 6, 7, 10, 11),\n",
       " (0, 1, 3, 4, 6, 8, 9, 10),\n",
       " (0, 1, 3, 4, 6, 8, 9, 11),\n",
       " (0, 1, 3, 4, 6, 8, 10, 11),\n",
       " (0, 1, 3, 4, 6, 9, 10, 11),\n",
       " (0, 1, 3, 4, 7, 8, 9, 10),\n",
       " (0, 1, 3, 4, 7, 8, 9, 11),\n",
       " (0, 1, 3, 4, 7, 8, 10, 11),\n",
       " (0, 1, 3, 4, 7, 9, 10, 11),\n",
       " (0, 1, 3, 4, 8, 9, 10, 11),\n",
       " (0, 1, 3, 5, 6, 7, 8, 9),\n",
       " (0, 1, 3, 5, 6, 7, 8, 10),\n",
       " (0, 1, 3, 5, 6, 7, 8, 11),\n",
       " (0, 1, 3, 5, 6, 7, 9, 10),\n",
       " (0, 1, 3, 5, 6, 7, 9, 11),\n",
       " (0, 1, 3, 5, 6, 7, 10, 11),\n",
       " (0, 1, 3, 5, 6, 8, 9, 10),\n",
       " (0, 1, 3, 5, 6, 8, 9, 11),\n",
       " (0, 1, 3, 5, 6, 8, 10, 11),\n",
       " (0, 1, 3, 5, 6, 9, 10, 11),\n",
       " (0, 1, 3, 5, 7, 8, 9, 10),\n",
       " (0, 1, 3, 5, 7, 8, 9, 11),\n",
       " (0, 1, 3, 5, 7, 8, 10, 11),\n",
       " (0, 1, 3, 5, 7, 9, 10, 11),\n",
       " (0, 1, 3, 5, 8, 9, 10, 11),\n",
       " (0, 1, 3, 6, 7, 8, 9, 10),\n",
       " (0, 1, 3, 6, 7, 8, 9, 11),\n",
       " (0, 1, 3, 6, 7, 8, 10, 11),\n",
       " (0, 1, 3, 6, 7, 9, 10, 11),\n",
       " (0, 1, 3, 6, 8, 9, 10, 11),\n",
       " (0, 1, 3, 7, 8, 9, 10, 11),\n",
       " (0, 1, 4, 5, 6, 7, 8, 9),\n",
       " (0, 1, 4, 5, 6, 7, 8, 10),\n",
       " (0, 1, 4, 5, 6, 7, 8, 11),\n",
       " (0, 1, 4, 5, 6, 7, 9, 10),\n",
       " (0, 1, 4, 5, 6, 7, 9, 11),\n",
       " (0, 1, 4, 5, 6, 7, 10, 11),\n",
       " (0, 1, 4, 5, 6, 8, 9, 10),\n",
       " (0, 1, 4, 5, 6, 8, 9, 11),\n",
       " (0, 1, 4, 5, 6, 8, 10, 11),\n",
       " (0, 1, 4, 5, 6, 9, 10, 11),\n",
       " (0, 1, 4, 5, 7, 8, 9, 10),\n",
       " (0, 1, 4, 5, 7, 8, 9, 11),\n",
       " (0, 1, 4, 5, 7, 8, 10, 11),\n",
       " (0, 1, 4, 5, 7, 9, 10, 11),\n",
       " (0, 1, 4, 5, 8, 9, 10, 11),\n",
       " (0, 1, 4, 6, 7, 8, 9, 10),\n",
       " (0, 1, 4, 6, 7, 8, 9, 11),\n",
       " (0, 1, 4, 6, 7, 8, 10, 11),\n",
       " (0, 1, 4, 6, 7, 9, 10, 11),\n",
       " (0, 1, 4, 6, 8, 9, 10, 11),\n",
       " (0, 1, 4, 7, 8, 9, 10, 11),\n",
       " (0, 1, 5, 6, 7, 8, 9, 10),\n",
       " (0, 1, 5, 6, 7, 8, 9, 11),\n",
       " (0, 1, 5, 6, 7, 8, 10, 11),\n",
       " (0, 1, 5, 6, 7, 9, 10, 11),\n",
       " (0, 1, 5, 6, 8, 9, 10, 11),\n",
       " (0, 1, 5, 7, 8, 9, 10, 11),\n",
       " (0, 1, 6, 7, 8, 9, 10, 11),\n",
       " (0, 2, 3, 4, 5, 6, 7, 8),\n",
       " (0, 2, 3, 4, 5, 6, 7, 9),\n",
       " (0, 2, 3, 4, 5, 6, 7, 10),\n",
       " (0, 2, 3, 4, 5, 6, 7, 11),\n",
       " (0, 2, 3, 4, 5, 6, 8, 9),\n",
       " (0, 2, 3, 4, 5, 6, 8, 10),\n",
       " (0, 2, 3, 4, 5, 6, 8, 11),\n",
       " (0, 2, 3, 4, 5, 6, 9, 10),\n",
       " (0, 2, 3, 4, 5, 6, 9, 11),\n",
       " (0, 2, 3, 4, 5, 6, 10, 11),\n",
       " (0, 2, 3, 4, 5, 7, 8, 9),\n",
       " (0, 2, 3, 4, 5, 7, 8, 10),\n",
       " (0, 2, 3, 4, 5, 7, 8, 11),\n",
       " (0, 2, 3, 4, 5, 7, 9, 10),\n",
       " (0, 2, 3, 4, 5, 7, 9, 11),\n",
       " (0, 2, 3, 4, 5, 7, 10, 11),\n",
       " (0, 2, 3, 4, 5, 8, 9, 10),\n",
       " (0, 2, 3, 4, 5, 8, 9, 11),\n",
       " (0, 2, 3, 4, 5, 8, 10, 11),\n",
       " (0, 2, 3, 4, 5, 9, 10, 11),\n",
       " (0, 2, 3, 4, 6, 7, 8, 9),\n",
       " (0, 2, 3, 4, 6, 7, 8, 10),\n",
       " (0, 2, 3, 4, 6, 7, 8, 11),\n",
       " (0, 2, 3, 4, 6, 7, 9, 10),\n",
       " (0, 2, 3, 4, 6, 7, 9, 11),\n",
       " (0, 2, 3, 4, 6, 7, 10, 11),\n",
       " (0, 2, 3, 4, 6, 8, 9, 10),\n",
       " (0, 2, 3, 4, 6, 8, 9, 11),\n",
       " (0, 2, 3, 4, 6, 8, 10, 11),\n",
       " (0, 2, 3, 4, 6, 9, 10, 11),\n",
       " (0, 2, 3, 4, 7, 8, 9, 10),\n",
       " (0, 2, 3, 4, 7, 8, 9, 11),\n",
       " (0, 2, 3, 4, 7, 8, 10, 11),\n",
       " (0, 2, 3, 4, 7, 9, 10, 11),\n",
       " (0, 2, 3, 4, 8, 9, 10, 11),\n",
       " (0, 2, 3, 5, 6, 7, 8, 9),\n",
       " (0, 2, 3, 5, 6, 7, 8, 10),\n",
       " (0, 2, 3, 5, 6, 7, 8, 11),\n",
       " (0, 2, 3, 5, 6, 7, 9, 10),\n",
       " (0, 2, 3, 5, 6, 7, 9, 11),\n",
       " (0, 2, 3, 5, 6, 7, 10, 11),\n",
       " (0, 2, 3, 5, 6, 8, 9, 10),\n",
       " (0, 2, 3, 5, 6, 8, 9, 11),\n",
       " (0, 2, 3, 5, 6, 8, 10, 11),\n",
       " (0, 2, 3, 5, 6, 9, 10, 11),\n",
       " (0, 2, 3, 5, 7, 8, 9, 10),\n",
       " (0, 2, 3, 5, 7, 8, 9, 11),\n",
       " (0, 2, 3, 5, 7, 8, 10, 11),\n",
       " (0, 2, 3, 5, 7, 9, 10, 11),\n",
       " (0, 2, 3, 5, 8, 9, 10, 11),\n",
       " (0, 2, 3, 6, 7, 8, 9, 10),\n",
       " (0, 2, 3, 6, 7, 8, 9, 11),\n",
       " (0, 2, 3, 6, 7, 8, 10, 11),\n",
       " (0, 2, 3, 6, 7, 9, 10, 11),\n",
       " (0, 2, 3, 6, 8, 9, 10, 11),\n",
       " (0, 2, 3, 7, 8, 9, 10, 11),\n",
       " (0, 2, 4, 5, 6, 7, 8, 9),\n",
       " (0, 2, 4, 5, 6, 7, 8, 10),\n",
       " (0, 2, 4, 5, 6, 7, 8, 11),\n",
       " (0, 2, 4, 5, 6, 7, 9, 10),\n",
       " (0, 2, 4, 5, 6, 7, 9, 11),\n",
       " (0, 2, 4, 5, 6, 7, 10, 11),\n",
       " (0, 2, 4, 5, 6, 8, 9, 10),\n",
       " (0, 2, 4, 5, 6, 8, 9, 11),\n",
       " (0, 2, 4, 5, 6, 8, 10, 11),\n",
       " (0, 2, 4, 5, 6, 9, 10, 11),\n",
       " (0, 2, 4, 5, 7, 8, 9, 10),\n",
       " (0, 2, 4, 5, 7, 8, 9, 11),\n",
       " (0, 2, 4, 5, 7, 8, 10, 11),\n",
       " (0, 2, 4, 5, 7, 9, 10, 11),\n",
       " (0, 2, 4, 5, 8, 9, 10, 11),\n",
       " (0, 2, 4, 6, 7, 8, 9, 10),\n",
       " (0, 2, 4, 6, 7, 8, 9, 11),\n",
       " (0, 2, 4, 6, 7, 8, 10, 11),\n",
       " (0, 2, 4, 6, 7, 9, 10, 11),\n",
       " (0, 2, 4, 6, 8, 9, 10, 11),\n",
       " (0, 2, 4, 7, 8, 9, 10, 11),\n",
       " (0, 2, 5, 6, 7, 8, 9, 10),\n",
       " (0, 2, 5, 6, 7, 8, 9, 11),\n",
       " (0, 2, 5, 6, 7, 8, 10, 11),\n",
       " (0, 2, 5, 6, 7, 9, 10, 11),\n",
       " (0, 2, 5, 6, 8, 9, 10, 11),\n",
       " (0, 2, 5, 7, 8, 9, 10, 11),\n",
       " (0, 2, 6, 7, 8, 9, 10, 11),\n",
       " (0, 3, 4, 5, 6, 7, 8, 9),\n",
       " (0, 3, 4, 5, 6, 7, 8, 10),\n",
       " (0, 3, 4, 5, 6, 7, 8, 11),\n",
       " (0, 3, 4, 5, 6, 7, 9, 10),\n",
       " (0, 3, 4, 5, 6, 7, 9, 11),\n",
       " (0, 3, 4, 5, 6, 7, 10, 11),\n",
       " (0, 3, 4, 5, 6, 8, 9, 10),\n",
       " (0, 3, 4, 5, 6, 8, 9, 11),\n",
       " (0, 3, 4, 5, 6, 8, 10, 11),\n",
       " (0, 3, 4, 5, 6, 9, 10, 11),\n",
       " (0, 3, 4, 5, 7, 8, 9, 10),\n",
       " (0, 3, 4, 5, 7, 8, 9, 11),\n",
       " (0, 3, 4, 5, 7, 8, 10, 11),\n",
       " (0, 3, 4, 5, 7, 9, 10, 11),\n",
       " (0, 3, 4, 5, 8, 9, 10, 11),\n",
       " (0, 3, 4, 6, 7, 8, 9, 10),\n",
       " (0, 3, 4, 6, 7, 8, 9, 11),\n",
       " (0, 3, 4, 6, 7, 8, 10, 11),\n",
       " (0, 3, 4, 6, 7, 9, 10, 11),\n",
       " (0, 3, 4, 6, 8, 9, 10, 11),\n",
       " (0, 3, 4, 7, 8, 9, 10, 11),\n",
       " (0, 3, 5, 6, 7, 8, 9, 10),\n",
       " (0, 3, 5, 6, 7, 8, 9, 11),\n",
       " (0, 3, 5, 6, 7, 8, 10, 11),\n",
       " (0, 3, 5, 6, 7, 9, 10, 11),\n",
       " (0, 3, 5, 6, 8, 9, 10, 11),\n",
       " (0, 3, 5, 7, 8, 9, 10, 11),\n",
       " (0, 3, 6, 7, 8, 9, 10, 11),\n",
       " (0, 4, 5, 6, 7, 8, 9, 10),\n",
       " (0, 4, 5, 6, 7, 8, 9, 11),\n",
       " (0, 4, 5, 6, 7, 8, 10, 11),\n",
       " (0, 4, 5, 6, 7, 9, 10, 11),\n",
       " (0, 4, 5, 6, 8, 9, 10, 11),\n",
       " (0, 4, 5, 7, 8, 9, 10, 11),\n",
       " (0, 4, 6, 7, 8, 9, 10, 11),\n",
       " (0, 5, 6, 7, 8, 9, 10, 11),\n",
       " (1, 2, 3, 4, 5, 6, 7, 8),\n",
       " (1, 2, 3, 4, 5, 6, 7, 9),\n",
       " (1, 2, 3, 4, 5, 6, 7, 10),\n",
       " (1, 2, 3, 4, 5, 6, 7, 11),\n",
       " (1, 2, 3, 4, 5, 6, 8, 9),\n",
       " (1, 2, 3, 4, 5, 6, 8, 10),\n",
       " (1, 2, 3, 4, 5, 6, 8, 11),\n",
       " (1, 2, 3, 4, 5, 6, 9, 10),\n",
       " (1, 2, 3, 4, 5, 6, 9, 11),\n",
       " (1, 2, 3, 4, 5, 6, 10, 11),\n",
       " (1, 2, 3, 4, 5, 7, 8, 9),\n",
       " (1, 2, 3, 4, 5, 7, 8, 10),\n",
       " (1, 2, 3, 4, 5, 7, 8, 11),\n",
       " (1, 2, 3, 4, 5, 7, 9, 10),\n",
       " (1, 2, 3, 4, 5, 7, 9, 11),\n",
       " (1, 2, 3, 4, 5, 7, 10, 11),\n",
       " (1, 2, 3, 4, 5, 8, 9, 10),\n",
       " (1, 2, 3, 4, 5, 8, 9, 11),\n",
       " (1, 2, 3, 4, 5, 8, 10, 11),\n",
       " (1, 2, 3, 4, 5, 9, 10, 11),\n",
       " (1, 2, 3, 4, 6, 7, 8, 9),\n",
       " (1, 2, 3, 4, 6, 7, 8, 10),\n",
       " (1, 2, 3, 4, 6, 7, 8, 11),\n",
       " (1, 2, 3, 4, 6, 7, 9, 10),\n",
       " (1, 2, 3, 4, 6, 7, 9, 11),\n",
       " (1, 2, 3, 4, 6, 7, 10, 11),\n",
       " (1, 2, 3, 4, 6, 8, 9, 10),\n",
       " (1, 2, 3, 4, 6, 8, 9, 11),\n",
       " (1, 2, 3, 4, 6, 8, 10, 11),\n",
       " (1, 2, 3, 4, 6, 9, 10, 11),\n",
       " (1, 2, 3, 4, 7, 8, 9, 10),\n",
       " (1, 2, 3, 4, 7, 8, 9, 11),\n",
       " (1, 2, 3, 4, 7, 8, 10, 11),\n",
       " (1, 2, 3, 4, 7, 9, 10, 11),\n",
       " (1, 2, 3, 4, 8, 9, 10, 11),\n",
       " (1, 2, 3, 5, 6, 7, 8, 9),\n",
       " (1, 2, 3, 5, 6, 7, 8, 10),\n",
       " (1, 2, 3, 5, 6, 7, 8, 11),\n",
       " (1, 2, 3, 5, 6, 7, 9, 10),\n",
       " (1, 2, 3, 5, 6, 7, 9, 11),\n",
       " (1, 2, 3, 5, 6, 7, 10, 11),\n",
       " (1, 2, 3, 5, 6, 8, 9, 10),\n",
       " (1, 2, 3, 5, 6, 8, 9, 11),\n",
       " (1, 2, 3, 5, 6, 8, 10, 11),\n",
       " (1, 2, 3, 5, 6, 9, 10, 11),\n",
       " (1, 2, 3, 5, 7, 8, 9, 10),\n",
       " (1, 2, 3, 5, 7, 8, 9, 11),\n",
       " (1, 2, 3, 5, 7, 8, 10, 11),\n",
       " (1, 2, 3, 5, 7, 9, 10, 11),\n",
       " (1, 2, 3, 5, 8, 9, 10, 11),\n",
       " (1, 2, 3, 6, 7, 8, 9, 10),\n",
       " (1, 2, 3, 6, 7, 8, 9, 11),\n",
       " (1, 2, 3, 6, 7, 8, 10, 11),\n",
       " (1, 2, 3, 6, 7, 9, 10, 11),\n",
       " (1, 2, 3, 6, 8, 9, 10, 11),\n",
       " (1, 2, 3, 7, 8, 9, 10, 11),\n",
       " (1, 2, 4, 5, 6, 7, 8, 9),\n",
       " (1, 2, 4, 5, 6, 7, 8, 10),\n",
       " (1, 2, 4, 5, 6, 7, 8, 11),\n",
       " (1, 2, 4, 5, 6, 7, 9, 10),\n",
       " (1, 2, 4, 5, 6, 7, 9, 11),\n",
       " (1, 2, 4, 5, 6, 7, 10, 11),\n",
       " (1, 2, 4, 5, 6, 8, 9, 10),\n",
       " (1, 2, 4, 5, 6, 8, 9, 11),\n",
       " (1, 2, 4, 5, 6, 8, 10, 11),\n",
       " (1, 2, 4, 5, 6, 9, 10, 11),\n",
       " (1, 2, 4, 5, 7, 8, 9, 10),\n",
       " (1, 2, 4, 5, 7, 8, 9, 11),\n",
       " (1, 2, 4, 5, 7, 8, 10, 11),\n",
       " (1, 2, 4, 5, 7, 9, 10, 11),\n",
       " (1, 2, 4, 5, 8, 9, 10, 11),\n",
       " (1, 2, 4, 6, 7, 8, 9, 10),\n",
       " (1, 2, 4, 6, 7, 8, 9, 11),\n",
       " (1, 2, 4, 6, 7, 8, 10, 11),\n",
       " (1, 2, 4, 6, 7, 9, 10, 11),\n",
       " (1, 2, 4, 6, 8, 9, 10, 11),\n",
       " (1, 2, 4, 7, 8, 9, 10, 11),\n",
       " (1, 2, 5, 6, 7, 8, 9, 10),\n",
       " (1, 2, 5, 6, 7, 8, 9, 11),\n",
       " (1, 2, 5, 6, 7, 8, 10, 11),\n",
       " (1, 2, 5, 6, 7, 9, 10, 11),\n",
       " (1, 2, 5, 6, 8, 9, 10, 11),\n",
       " (1, 2, 5, 7, 8, 9, 10, 11),\n",
       " (1, 2, 6, 7, 8, 9, 10, 11),\n",
       " (1, 3, 4, 5, 6, 7, 8, 9),\n",
       " (1, 3, 4, 5, 6, 7, 8, 10),\n",
       " (1, 3, 4, 5, 6, 7, 8, 11),\n",
       " (1, 3, 4, 5, 6, 7, 9, 10),\n",
       " (1, 3, 4, 5, 6, 7, 9, 11),\n",
       " (1, 3, 4, 5, 6, 7, 10, 11),\n",
       " (1, 3, 4, 5, 6, 8, 9, 10),\n",
       " (1, 3, 4, 5, 6, 8, 9, 11),\n",
       " (1, 3, 4, 5, 6, 8, 10, 11),\n",
       " (1, 3, 4, 5, 6, 9, 10, 11),\n",
       " (1, 3, 4, 5, 7, 8, 9, 10),\n",
       " (1, 3, 4, 5, 7, 8, 9, 11),\n",
       " (1, 3, 4, 5, 7, 8, 10, 11),\n",
       " (1, 3, 4, 5, 7, 9, 10, 11),\n",
       " (1, 3, 4, 5, 8, 9, 10, 11),\n",
       " (1, 3, 4, 6, 7, 8, 9, 10),\n",
       " (1, 3, 4, 6, 7, 8, 9, 11),\n",
       " (1, 3, 4, 6, 7, 8, 10, 11),\n",
       " (1, 3, 4, 6, 7, 9, 10, 11),\n",
       " (1, 3, 4, 6, 8, 9, 10, 11),\n",
       " (1, 3, 4, 7, 8, 9, 10, 11),\n",
       " (1, 3, 5, 6, 7, 8, 9, 10),\n",
       " (1, 3, 5, 6, 7, 8, 9, 11),\n",
       " (1, 3, 5, 6, 7, 8, 10, 11),\n",
       " (1, 3, 5, 6, 7, 9, 10, 11),\n",
       " (1, 3, 5, 6, 8, 9, 10, 11),\n",
       " (1, 3, 5, 7, 8, 9, 10, 11),\n",
       " (1, 3, 6, 7, 8, 9, 10, 11),\n",
       " (1, 4, 5, 6, 7, 8, 9, 10),\n",
       " (1, 4, 5, 6, 7, 8, 9, 11),\n",
       " (1, 4, 5, 6, 7, 8, 10, 11),\n",
       " (1, 4, 5, 6, 7, 9, 10, 11),\n",
       " (1, 4, 5, 6, 8, 9, 10, 11),\n",
       " (1, 4, 5, 7, 8, 9, 10, 11),\n",
       " (1, 4, 6, 7, 8, 9, 10, 11),\n",
       " (1, 5, 6, 7, 8, 9, 10, 11),\n",
       " (2, 3, 4, 5, 6, 7, 8, 9),\n",
       " (2, 3, 4, 5, 6, 7, 8, 10),\n",
       " (2, 3, 4, 5, 6, 7, 8, 11),\n",
       " (2, 3, 4, 5, 6, 7, 9, 10),\n",
       " (2, 3, 4, 5, 6, 7, 9, 11),\n",
       " (2, 3, 4, 5, 6, 7, 10, 11),\n",
       " (2, 3, 4, 5, 6, 8, 9, 10),\n",
       " (2, 3, 4, 5, 6, 8, 9, 11),\n",
       " (2, 3, 4, 5, 6, 8, 10, 11),\n",
       " (2, 3, 4, 5, 6, 9, 10, 11),\n",
       " (2, 3, 4, 5, 7, 8, 9, 10),\n",
       " (2, 3, 4, 5, 7, 8, 9, 11),\n",
       " (2, 3, 4, 5, 7, 8, 10, 11),\n",
       " (2, 3, 4, 5, 7, 9, 10, 11),\n",
       " (2, 3, 4, 5, 8, 9, 10, 11),\n",
       " (2, 3, 4, 6, 7, 8, 9, 10),\n",
       " (2, 3, 4, 6, 7, 8, 9, 11),\n",
       " (2, 3, 4, 6, 7, 8, 10, 11),\n",
       " (2, 3, 4, 6, 7, 9, 10, 11),\n",
       " (2, 3, 4, 6, 8, 9, 10, 11),\n",
       " (2, 3, 4, 7, 8, 9, 10, 11),\n",
       " (2, 3, 5, 6, 7, 8, 9, 10),\n",
       " (2, 3, 5, 6, 7, 8, 9, 11),\n",
       " (2, 3, 5, 6, 7, 8, 10, 11),\n",
       " (2, 3, 5, 6, 7, 9, 10, 11),\n",
       " (2, 3, 5, 6, 8, 9, 10, 11),\n",
       " (2, 3, 5, 7, 8, 9, 10, 11),\n",
       " (2, 3, 6, 7, 8, 9, 10, 11),\n",
       " (2, 4, 5, 6, 7, 8, 9, 10),\n",
       " (2, 4, 5, 6, 7, 8, 9, 11),\n",
       " (2, 4, 5, 6, 7, 8, 10, 11),\n",
       " (2, 4, 5, 6, 7, 9, 10, 11),\n",
       " (2, 4, 5, 6, 8, 9, 10, 11),\n",
       " (2, 4, 5, 7, 8, 9, 10, 11),\n",
       " (2, 4, 6, 7, 8, 9, 10, 11),\n",
       " (2, 5, 6, 7, 8, 9, 10, 11),\n",
       " (3, 4, 5, 6, 7, 8, 9, 10),\n",
       " (3, 4, 5, 6, 7, 8, 9, 11),\n",
       " (3, 4, 5, 6, 7, 8, 10, 11),\n",
       " (3, 4, 5, 6, 7, 9, 10, 11),\n",
       " (3, 4, 5, 6, 8, 9, 10, 11),\n",
       " (3, 4, 5, 7, 8, 9, 10, 11),\n",
       " (3, 4, 6, 7, 8, 9, 10, 11),\n",
       " (3, 5, 6, 7, 8, 9, 10, 11),\n",
       " (4, 5, 6, 7, 8, 9, 10, 11)]"
      ]
     },
     "execution_count": 161,
     "metadata": {},
     "output_type": "execute_result"
    }
   ],
   "source": [
    "# Show the different ways of selecting no_cups_milk_first out of no_cups cups of tea.\n",
    "combs = list(itertools.combinations(labels, num_tea_first_ex))\n",
    "\n",
    "# Show.\n",
    "combs"
   ]
  },
  {
   "cell_type": "code",
   "execution_count": 162,
   "id": "ef4af620",
   "metadata": {},
   "outputs": [
    {
     "data": {
      "text/plain": [
       "495"
      ]
     },
     "execution_count": 162,
     "metadata": {},
     "output_type": "execute_result"
    }
   ],
   "source": [
    "# Number of combinations.\n",
    "len(combs)"
   ]
  },
  {
   "cell_type": "code",
   "execution_count": 163,
   "id": "71a7c4e0",
   "metadata": {},
   "outputs": [
    {
     "data": {
      "text/plain": [
       "0.00202020202020202"
      ]
     },
     "execution_count": 163,
     "metadata": {},
     "output_type": "execute_result"
    }
   ],
   "source": [
    "# Probability of selecting one particular combination.\n",
    "\n",
    "1/len(combs)"
   ]
  },
  {
   "cell_type": "code",
   "execution_count": 164,
   "id": "dc860872",
   "metadata": {},
   "outputs": [
    {
     "data": {
      "text/plain": [
       "[0, 1, 2, 3, 5, 7, 10, 11]"
      ]
     },
     "execution_count": 164,
     "metadata": {},
     "output_type": "execute_result"
    }
   ],
   "source": [
    "# Select eight cups at random to put tea in first.\n",
    "# https://docs.python.org/3/library/random.html#random.sample\n",
    "labels_tea = random.sample(labels, 8)\n",
    "\n",
    "# Sort, inplace.\n",
    "labels_tea.sort()\n",
    "\n",
    "# Show.\n",
    "labels_tea"
   ]
  },
  {
   "cell_type": "code",
   "execution_count": 165,
   "id": "1d518f82",
   "metadata": {},
   "outputs": [
    {
     "data": {
      "text/plain": [
       "{0, 1, 2, 3, 5, 7, 10, 11}"
      ]
     },
     "execution_count": 165,
     "metadata": {},
     "output_type": "execute_result"
    }
   ],
   "source": [
    "# Turn labels_tea into a set.\n",
    "# Uses: https://docs.python.org/3/tutorial/datastructures.html#sets\n",
    "set(labels_tea)"
   ]
  },
  {
   "cell_type": "code",
   "execution_count": 166,
   "id": "8fdcaddf",
   "metadata": {},
   "outputs": [
    {
     "name": "stdout",
     "output_type": "stream",
     "text": [
      "(0, 1, 2, 3, 4, 5, 6, 7) 6 {0, 1, 2, 3, 5, 7}\n",
      "(0, 1, 2, 3, 4, 5, 6, 8) 5 {0, 1, 2, 3, 5}\n",
      "(0, 1, 2, 3, 4, 5, 6, 9) 5 {0, 1, 2, 3, 5}\n",
      "(0, 1, 2, 3, 4, 5, 6, 10) 6 {0, 1, 2, 3, 5, 10}\n",
      "(0, 1, 2, 3, 4, 5, 6, 11) 6 {0, 1, 2, 3, 5, 11}\n",
      "(0, 1, 2, 3, 4, 5, 7, 8) 6 {0, 1, 2, 3, 5, 7}\n",
      "(0, 1, 2, 3, 4, 5, 7, 9) 6 {0, 1, 2, 3, 5, 7}\n",
      "(0, 1, 2, 3, 4, 5, 7, 10) 7 {0, 1, 2, 3, 5, 7, 10}\n",
      "(0, 1, 2, 3, 4, 5, 7, 11) 7 {0, 1, 2, 3, 5, 7, 11}\n",
      "(0, 1, 2, 3, 4, 5, 8, 9) 5 {0, 1, 2, 3, 5}\n",
      "(0, 1, 2, 3, 4, 5, 8, 10) 6 {0, 1, 2, 3, 5, 10}\n",
      "(0, 1, 2, 3, 4, 5, 8, 11) 6 {0, 1, 2, 3, 5, 11}\n",
      "(0, 1, 2, 3, 4, 5, 9, 10) 6 {0, 1, 2, 3, 5, 10}\n",
      "(0, 1, 2, 3, 4, 5, 9, 11) 6 {0, 1, 2, 3, 5, 11}\n",
      "(0, 1, 2, 3, 4, 5, 10, 11) 7 {0, 1, 2, 3, 5, 10, 11}\n",
      "(0, 1, 2, 3, 4, 6, 7, 8) 5 {0, 1, 2, 3, 7}\n",
      "(0, 1, 2, 3, 4, 6, 7, 9) 5 {0, 1, 2, 3, 7}\n",
      "(0, 1, 2, 3, 4, 6, 7, 10) 6 {0, 1, 2, 3, 7, 10}\n",
      "(0, 1, 2, 3, 4, 6, 7, 11) 6 {0, 1, 2, 3, 7, 11}\n",
      "(0, 1, 2, 3, 4, 6, 8, 9) 4 {0, 1, 2, 3}\n",
      "(0, 1, 2, 3, 4, 6, 8, 10) 5 {0, 1, 2, 3, 10}\n",
      "(0, 1, 2, 3, 4, 6, 8, 11) 5 {0, 1, 2, 3, 11}\n",
      "(0, 1, 2, 3, 4, 6, 9, 10) 5 {0, 1, 2, 3, 10}\n",
      "(0, 1, 2, 3, 4, 6, 9, 11) 5 {0, 1, 2, 3, 11}\n",
      "(0, 1, 2, 3, 4, 6, 10, 11) 6 {0, 1, 2, 3, 10, 11}\n",
      "(0, 1, 2, 3, 4, 7, 8, 9) 5 {0, 1, 2, 3, 7}\n",
      "(0, 1, 2, 3, 4, 7, 8, 10) 6 {0, 1, 2, 3, 7, 10}\n",
      "(0, 1, 2, 3, 4, 7, 8, 11) 6 {0, 1, 2, 3, 7, 11}\n",
      "(0, 1, 2, 3, 4, 7, 9, 10) 6 {0, 1, 2, 3, 7, 10}\n",
      "(0, 1, 2, 3, 4, 7, 9, 11) 6 {0, 1, 2, 3, 7, 11}\n",
      "(0, 1, 2, 3, 4, 7, 10, 11) 7 {0, 1, 2, 3, 7, 10, 11}\n",
      "(0, 1, 2, 3, 4, 8, 9, 10) 5 {0, 1, 2, 3, 10}\n",
      "(0, 1, 2, 3, 4, 8, 9, 11) 5 {0, 1, 2, 3, 11}\n",
      "(0, 1, 2, 3, 4, 8, 10, 11) 6 {0, 1, 2, 3, 10, 11}\n",
      "(0, 1, 2, 3, 4, 9, 10, 11) 6 {0, 1, 2, 3, 10, 11}\n",
      "(0, 1, 2, 3, 5, 6, 7, 8) 6 {0, 1, 2, 3, 5, 7}\n",
      "(0, 1, 2, 3, 5, 6, 7, 9) 6 {0, 1, 2, 3, 5, 7}\n",
      "(0, 1, 2, 3, 5, 6, 7, 10) 7 {0, 1, 2, 3, 5, 7, 10}\n",
      "(0, 1, 2, 3, 5, 6, 7, 11) 7 {0, 1, 2, 3, 5, 7, 11}\n",
      "(0, 1, 2, 3, 5, 6, 8, 9) 5 {0, 1, 2, 3, 5}\n",
      "(0, 1, 2, 3, 5, 6, 8, 10) 6 {0, 1, 2, 3, 5, 10}\n",
      "(0, 1, 2, 3, 5, 6, 8, 11) 6 {0, 1, 2, 3, 5, 11}\n",
      "(0, 1, 2, 3, 5, 6, 9, 10) 6 {0, 1, 2, 3, 5, 10}\n",
      "(0, 1, 2, 3, 5, 6, 9, 11) 6 {0, 1, 2, 3, 5, 11}\n",
      "(0, 1, 2, 3, 5, 6, 10, 11) 7 {0, 1, 2, 3, 5, 10, 11}\n",
      "(0, 1, 2, 3, 5, 7, 8, 9) 6 {0, 1, 2, 3, 5, 7}\n",
      "(0, 1, 2, 3, 5, 7, 8, 10) 7 {0, 1, 2, 3, 5, 7, 10}\n",
      "(0, 1, 2, 3, 5, 7, 8, 11) 7 {0, 1, 2, 3, 5, 7, 11}\n",
      "(0, 1, 2, 3, 5, 7, 9, 10) 7 {0, 1, 2, 3, 5, 7, 10}\n",
      "(0, 1, 2, 3, 5, 7, 9, 11) 7 {0, 1, 2, 3, 5, 7, 11}\n",
      "(0, 1, 2, 3, 5, 7, 10, 11) 8 {0, 1, 2, 3, 5, 7, 10, 11}\n",
      "(0, 1, 2, 3, 5, 8, 9, 10) 6 {0, 1, 2, 3, 5, 10}\n",
      "(0, 1, 2, 3, 5, 8, 9, 11) 6 {0, 1, 2, 3, 5, 11}\n",
      "(0, 1, 2, 3, 5, 8, 10, 11) 7 {0, 1, 2, 3, 5, 10, 11}\n",
      "(0, 1, 2, 3, 5, 9, 10, 11) 7 {0, 1, 2, 3, 5, 10, 11}\n",
      "(0, 1, 2, 3, 6, 7, 8, 9) 5 {0, 1, 2, 3, 7}\n",
      "(0, 1, 2, 3, 6, 7, 8, 10) 6 {0, 1, 2, 3, 7, 10}\n",
      "(0, 1, 2, 3, 6, 7, 8, 11) 6 {0, 1, 2, 3, 7, 11}\n",
      "(0, 1, 2, 3, 6, 7, 9, 10) 6 {0, 1, 2, 3, 7, 10}\n",
      "(0, 1, 2, 3, 6, 7, 9, 11) 6 {0, 1, 2, 3, 7, 11}\n",
      "(0, 1, 2, 3, 6, 7, 10, 11) 7 {0, 1, 2, 3, 7, 10, 11}\n",
      "(0, 1, 2, 3, 6, 8, 9, 10) 5 {0, 1, 2, 3, 10}\n",
      "(0, 1, 2, 3, 6, 8, 9, 11) 5 {0, 1, 2, 3, 11}\n",
      "(0, 1, 2, 3, 6, 8, 10, 11) 6 {0, 1, 2, 3, 10, 11}\n",
      "(0, 1, 2, 3, 6, 9, 10, 11) 6 {0, 1, 2, 3, 10, 11}\n",
      "(0, 1, 2, 3, 7, 8, 9, 10) 6 {0, 1, 2, 3, 7, 10}\n",
      "(0, 1, 2, 3, 7, 8, 9, 11) 6 {0, 1, 2, 3, 7, 11}\n",
      "(0, 1, 2, 3, 7, 8, 10, 11) 7 {0, 1, 2, 3, 7, 10, 11}\n",
      "(0, 1, 2, 3, 7, 9, 10, 11) 7 {0, 1, 2, 3, 7, 10, 11}\n",
      "(0, 1, 2, 3, 8, 9, 10, 11) 6 {0, 1, 2, 3, 10, 11}\n",
      "(0, 1, 2, 4, 5, 6, 7, 8) 5 {0, 1, 2, 5, 7}\n",
      "(0, 1, 2, 4, 5, 6, 7, 9) 5 {0, 1, 2, 5, 7}\n",
      "(0, 1, 2, 4, 5, 6, 7, 10) 6 {0, 1, 2, 5, 7, 10}\n",
      "(0, 1, 2, 4, 5, 6, 7, 11) 6 {0, 1, 2, 5, 7, 11}\n",
      "(0, 1, 2, 4, 5, 6, 8, 9) 4 {0, 1, 2, 5}\n",
      "(0, 1, 2, 4, 5, 6, 8, 10) 5 {0, 1, 2, 5, 10}\n",
      "(0, 1, 2, 4, 5, 6, 8, 11) 5 {0, 1, 2, 5, 11}\n",
      "(0, 1, 2, 4, 5, 6, 9, 10) 5 {0, 1, 2, 5, 10}\n",
      "(0, 1, 2, 4, 5, 6, 9, 11) 5 {0, 1, 2, 5, 11}\n",
      "(0, 1, 2, 4, 5, 6, 10, 11) 6 {0, 1, 2, 5, 10, 11}\n",
      "(0, 1, 2, 4, 5, 7, 8, 9) 5 {0, 1, 2, 5, 7}\n",
      "(0, 1, 2, 4, 5, 7, 8, 10) 6 {0, 1, 2, 5, 7, 10}\n",
      "(0, 1, 2, 4, 5, 7, 8, 11) 6 {0, 1, 2, 5, 7, 11}\n",
      "(0, 1, 2, 4, 5, 7, 9, 10) 6 {0, 1, 2, 5, 7, 10}\n",
      "(0, 1, 2, 4, 5, 7, 9, 11) 6 {0, 1, 2, 5, 7, 11}\n",
      "(0, 1, 2, 4, 5, 7, 10, 11) 7 {0, 1, 2, 5, 7, 10, 11}\n",
      "(0, 1, 2, 4, 5, 8, 9, 10) 5 {0, 1, 2, 5, 10}\n",
      "(0, 1, 2, 4, 5, 8, 9, 11) 5 {0, 1, 2, 5, 11}\n",
      "(0, 1, 2, 4, 5, 8, 10, 11) 6 {0, 1, 2, 5, 10, 11}\n",
      "(0, 1, 2, 4, 5, 9, 10, 11) 6 {0, 1, 2, 5, 10, 11}\n",
      "(0, 1, 2, 4, 6, 7, 8, 9) 4 {0, 1, 2, 7}\n",
      "(0, 1, 2, 4, 6, 7, 8, 10) 5 {0, 1, 2, 7, 10}\n",
      "(0, 1, 2, 4, 6, 7, 8, 11) 5 {0, 1, 2, 7, 11}\n",
      "(0, 1, 2, 4, 6, 7, 9, 10) 5 {0, 1, 2, 7, 10}\n",
      "(0, 1, 2, 4, 6, 7, 9, 11) 5 {0, 1, 2, 7, 11}\n",
      "(0, 1, 2, 4, 6, 7, 10, 11) 6 {0, 1, 2, 7, 10, 11}\n",
      "(0, 1, 2, 4, 6, 8, 9, 10) 4 {0, 1, 2, 10}\n",
      "(0, 1, 2, 4, 6, 8, 9, 11) 4 {0, 1, 2, 11}\n",
      "(0, 1, 2, 4, 6, 8, 10, 11) 5 {0, 1, 2, 10, 11}\n",
      "(0, 1, 2, 4, 6, 9, 10, 11) 5 {0, 1, 2, 10, 11}\n",
      "(0, 1, 2, 4, 7, 8, 9, 10) 5 {0, 1, 2, 7, 10}\n",
      "(0, 1, 2, 4, 7, 8, 9, 11) 5 {0, 1, 2, 7, 11}\n",
      "(0, 1, 2, 4, 7, 8, 10, 11) 6 {0, 1, 2, 7, 10, 11}\n",
      "(0, 1, 2, 4, 7, 9, 10, 11) 6 {0, 1, 2, 7, 10, 11}\n",
      "(0, 1, 2, 4, 8, 9, 10, 11) 5 {0, 1, 2, 10, 11}\n",
      "(0, 1, 2, 5, 6, 7, 8, 9) 5 {0, 1, 2, 5, 7}\n",
      "(0, 1, 2, 5, 6, 7, 8, 10) 6 {0, 1, 2, 5, 7, 10}\n",
      "(0, 1, 2, 5, 6, 7, 8, 11) 6 {0, 1, 2, 5, 7, 11}\n",
      "(0, 1, 2, 5, 6, 7, 9, 10) 6 {0, 1, 2, 5, 7, 10}\n",
      "(0, 1, 2, 5, 6, 7, 9, 11) 6 {0, 1, 2, 5, 7, 11}\n",
      "(0, 1, 2, 5, 6, 7, 10, 11) 7 {0, 1, 2, 5, 7, 10, 11}\n",
      "(0, 1, 2, 5, 6, 8, 9, 10) 5 {0, 1, 2, 5, 10}\n",
      "(0, 1, 2, 5, 6, 8, 9, 11) 5 {0, 1, 2, 5, 11}\n",
      "(0, 1, 2, 5, 6, 8, 10, 11) 6 {0, 1, 2, 5, 10, 11}\n",
      "(0, 1, 2, 5, 6, 9, 10, 11) 6 {0, 1, 2, 5, 10, 11}\n",
      "(0, 1, 2, 5, 7, 8, 9, 10) 6 {0, 1, 2, 5, 7, 10}\n",
      "(0, 1, 2, 5, 7, 8, 9, 11) 6 {0, 1, 2, 5, 7, 11}\n",
      "(0, 1, 2, 5, 7, 8, 10, 11) 7 {0, 1, 2, 5, 7, 10, 11}\n",
      "(0, 1, 2, 5, 7, 9, 10, 11) 7 {0, 1, 2, 5, 7, 10, 11}\n",
      "(0, 1, 2, 5, 8, 9, 10, 11) 6 {0, 1, 2, 5, 10, 11}\n",
      "(0, 1, 2, 6, 7, 8, 9, 10) 5 {0, 1, 2, 7, 10}\n",
      "(0, 1, 2, 6, 7, 8, 9, 11) 5 {0, 1, 2, 7, 11}\n",
      "(0, 1, 2, 6, 7, 8, 10, 11) 6 {0, 1, 2, 7, 10, 11}\n",
      "(0, 1, 2, 6, 7, 9, 10, 11) 6 {0, 1, 2, 7, 10, 11}\n",
      "(0, 1, 2, 6, 8, 9, 10, 11) 5 {0, 1, 2, 10, 11}\n",
      "(0, 1, 2, 7, 8, 9, 10, 11) 6 {0, 1, 2, 7, 10, 11}\n",
      "(0, 1, 3, 4, 5, 6, 7, 8) 5 {0, 1, 3, 5, 7}\n",
      "(0, 1, 3, 4, 5, 6, 7, 9) 5 {0, 1, 3, 5, 7}\n",
      "(0, 1, 3, 4, 5, 6, 7, 10) 6 {0, 1, 3, 5, 7, 10}\n",
      "(0, 1, 3, 4, 5, 6, 7, 11) 6 {0, 1, 3, 5, 7, 11}\n",
      "(0, 1, 3, 4, 5, 6, 8, 9) 4 {0, 1, 3, 5}\n",
      "(0, 1, 3, 4, 5, 6, 8, 10) 5 {0, 1, 3, 5, 10}\n",
      "(0, 1, 3, 4, 5, 6, 8, 11) 5 {0, 1, 3, 5, 11}\n",
      "(0, 1, 3, 4, 5, 6, 9, 10) 5 {0, 1, 3, 5, 10}\n",
      "(0, 1, 3, 4, 5, 6, 9, 11) 5 {0, 1, 3, 5, 11}\n",
      "(0, 1, 3, 4, 5, 6, 10, 11) 6 {0, 1, 3, 5, 10, 11}\n",
      "(0, 1, 3, 4, 5, 7, 8, 9) 5 {0, 1, 3, 5, 7}\n",
      "(0, 1, 3, 4, 5, 7, 8, 10) 6 {0, 1, 3, 5, 7, 10}\n",
      "(0, 1, 3, 4, 5, 7, 8, 11) 6 {0, 1, 3, 5, 7, 11}\n",
      "(0, 1, 3, 4, 5, 7, 9, 10) 6 {0, 1, 3, 5, 7, 10}\n",
      "(0, 1, 3, 4, 5, 7, 9, 11) 6 {0, 1, 3, 5, 7, 11}\n",
      "(0, 1, 3, 4, 5, 7, 10, 11) 7 {0, 1, 3, 5, 7, 10, 11}\n",
      "(0, 1, 3, 4, 5, 8, 9, 10) 5 {0, 1, 3, 5, 10}\n",
      "(0, 1, 3, 4, 5, 8, 9, 11) 5 {0, 1, 3, 5, 11}\n",
      "(0, 1, 3, 4, 5, 8, 10, 11) 6 {0, 1, 3, 5, 10, 11}\n",
      "(0, 1, 3, 4, 5, 9, 10, 11) 6 {0, 1, 3, 5, 10, 11}\n",
      "(0, 1, 3, 4, 6, 7, 8, 9) 4 {0, 1, 3, 7}\n",
      "(0, 1, 3, 4, 6, 7, 8, 10) 5 {0, 1, 3, 7, 10}\n",
      "(0, 1, 3, 4, 6, 7, 8, 11) 5 {0, 1, 3, 7, 11}\n",
      "(0, 1, 3, 4, 6, 7, 9, 10) 5 {0, 1, 3, 7, 10}\n",
      "(0, 1, 3, 4, 6, 7, 9, 11) 5 {0, 1, 3, 7, 11}\n",
      "(0, 1, 3, 4, 6, 7, 10, 11) 6 {0, 1, 3, 7, 10, 11}\n",
      "(0, 1, 3, 4, 6, 8, 9, 10) 4 {0, 1, 10, 3}\n",
      "(0, 1, 3, 4, 6, 8, 9, 11) 4 {0, 1, 3, 11}\n",
      "(0, 1, 3, 4, 6, 8, 10, 11) 5 {0, 1, 3, 10, 11}\n",
      "(0, 1, 3, 4, 6, 9, 10, 11) 5 {0, 1, 3, 10, 11}\n",
      "(0, 1, 3, 4, 7, 8, 9, 10) 5 {0, 1, 3, 7, 10}\n",
      "(0, 1, 3, 4, 7, 8, 9, 11) 5 {0, 1, 3, 7, 11}\n",
      "(0, 1, 3, 4, 7, 8, 10, 11) 6 {0, 1, 3, 7, 10, 11}\n",
      "(0, 1, 3, 4, 7, 9, 10, 11) 6 {0, 1, 3, 7, 10, 11}\n",
      "(0, 1, 3, 4, 8, 9, 10, 11) 5 {0, 1, 3, 10, 11}\n",
      "(0, 1, 3, 5, 6, 7, 8, 9) 5 {0, 1, 3, 5, 7}\n",
      "(0, 1, 3, 5, 6, 7, 8, 10) 6 {0, 1, 3, 5, 7, 10}\n",
      "(0, 1, 3, 5, 6, 7, 8, 11) 6 {0, 1, 3, 5, 7, 11}\n",
      "(0, 1, 3, 5, 6, 7, 9, 10) 6 {0, 1, 3, 5, 7, 10}\n",
      "(0, 1, 3, 5, 6, 7, 9, 11) 6 {0, 1, 3, 5, 7, 11}\n",
      "(0, 1, 3, 5, 6, 7, 10, 11) 7 {0, 1, 3, 5, 7, 10, 11}\n",
      "(0, 1, 3, 5, 6, 8, 9, 10) 5 {0, 1, 3, 5, 10}\n",
      "(0, 1, 3, 5, 6, 8, 9, 11) 5 {0, 1, 3, 5, 11}\n",
      "(0, 1, 3, 5, 6, 8, 10, 11) 6 {0, 1, 3, 5, 10, 11}\n",
      "(0, 1, 3, 5, 6, 9, 10, 11) 6 {0, 1, 3, 5, 10, 11}\n",
      "(0, 1, 3, 5, 7, 8, 9, 10) 6 {0, 1, 3, 5, 7, 10}\n",
      "(0, 1, 3, 5, 7, 8, 9, 11) 6 {0, 1, 3, 5, 7, 11}\n",
      "(0, 1, 3, 5, 7, 8, 10, 11) 7 {0, 1, 3, 5, 7, 10, 11}\n",
      "(0, 1, 3, 5, 7, 9, 10, 11) 7 {0, 1, 3, 5, 7, 10, 11}\n",
      "(0, 1, 3, 5, 8, 9, 10, 11) 6 {0, 1, 3, 5, 10, 11}\n",
      "(0, 1, 3, 6, 7, 8, 9, 10) 5 {0, 1, 3, 7, 10}\n",
      "(0, 1, 3, 6, 7, 8, 9, 11) 5 {0, 1, 3, 7, 11}\n",
      "(0, 1, 3, 6, 7, 8, 10, 11) 6 {0, 1, 3, 7, 10, 11}\n",
      "(0, 1, 3, 6, 7, 9, 10, 11) 6 {0, 1, 3, 7, 10, 11}\n",
      "(0, 1, 3, 6, 8, 9, 10, 11) 5 {0, 1, 3, 10, 11}\n",
      "(0, 1, 3, 7, 8, 9, 10, 11) 6 {0, 1, 3, 7, 10, 11}\n",
      "(0, 1, 4, 5, 6, 7, 8, 9) 4 {0, 1, 5, 7}\n",
      "(0, 1, 4, 5, 6, 7, 8, 10) 5 {0, 1, 5, 7, 10}\n",
      "(0, 1, 4, 5, 6, 7, 8, 11) 5 {0, 1, 5, 7, 11}\n",
      "(0, 1, 4, 5, 6, 7, 9, 10) 5 {0, 1, 5, 7, 10}\n",
      "(0, 1, 4, 5, 6, 7, 9, 11) 5 {0, 1, 5, 7, 11}\n",
      "(0, 1, 4, 5, 6, 7, 10, 11) 6 {0, 1, 5, 7, 10, 11}\n",
      "(0, 1, 4, 5, 6, 8, 9, 10) 4 {0, 1, 10, 5}\n",
      "(0, 1, 4, 5, 6, 8, 9, 11) 4 {0, 1, 11, 5}\n",
      "(0, 1, 4, 5, 6, 8, 10, 11) 5 {0, 1, 5, 10, 11}\n",
      "(0, 1, 4, 5, 6, 9, 10, 11) 5 {0, 1, 5, 10, 11}\n",
      "(0, 1, 4, 5, 7, 8, 9, 10) 5 {0, 1, 5, 7, 10}\n",
      "(0, 1, 4, 5, 7, 8, 9, 11) 5 {0, 1, 5, 7, 11}\n",
      "(0, 1, 4, 5, 7, 8, 10, 11) 6 {0, 1, 5, 7, 10, 11}\n",
      "(0, 1, 4, 5, 7, 9, 10, 11) 6 {0, 1, 5, 7, 10, 11}\n",
      "(0, 1, 4, 5, 8, 9, 10, 11) 5 {0, 1, 5, 10, 11}\n",
      "(0, 1, 4, 6, 7, 8, 9, 10) 4 {0, 1, 10, 7}\n",
      "(0, 1, 4, 6, 7, 8, 9, 11) 4 {0, 1, 11, 7}\n",
      "(0, 1, 4, 6, 7, 8, 10, 11) 5 {0, 1, 7, 10, 11}\n",
      "(0, 1, 4, 6, 7, 9, 10, 11) 5 {0, 1, 7, 10, 11}\n",
      "(0, 1, 4, 6, 8, 9, 10, 11) 4 {0, 1, 10, 11}\n",
      "(0, 1, 4, 7, 8, 9, 10, 11) 5 {0, 1, 7, 10, 11}\n",
      "(0, 1, 5, 6, 7, 8, 9, 10) 5 {0, 1, 5, 7, 10}\n",
      "(0, 1, 5, 6, 7, 8, 9, 11) 5 {0, 1, 5, 7, 11}\n",
      "(0, 1, 5, 6, 7, 8, 10, 11) 6 {0, 1, 5, 7, 10, 11}\n",
      "(0, 1, 5, 6, 7, 9, 10, 11) 6 {0, 1, 5, 7, 10, 11}\n",
      "(0, 1, 5, 6, 8, 9, 10, 11) 5 {0, 1, 5, 10, 11}\n",
      "(0, 1, 5, 7, 8, 9, 10, 11) 6 {0, 1, 5, 7, 10, 11}\n",
      "(0, 1, 6, 7, 8, 9, 10, 11) 5 {0, 1, 7, 10, 11}\n",
      "(0, 2, 3, 4, 5, 6, 7, 8) 5 {0, 2, 3, 5, 7}\n",
      "(0, 2, 3, 4, 5, 6, 7, 9) 5 {0, 2, 3, 5, 7}\n",
      "(0, 2, 3, 4, 5, 6, 7, 10) 6 {0, 2, 3, 5, 7, 10}\n",
      "(0, 2, 3, 4, 5, 6, 7, 11) 6 {0, 2, 3, 5, 7, 11}\n",
      "(0, 2, 3, 4, 5, 6, 8, 9) 4 {0, 2, 3, 5}\n",
      "(0, 2, 3, 4, 5, 6, 8, 10) 5 {0, 2, 3, 5, 10}\n",
      "(0, 2, 3, 4, 5, 6, 8, 11) 5 {0, 2, 3, 5, 11}\n",
      "(0, 2, 3, 4, 5, 6, 9, 10) 5 {0, 2, 3, 5, 10}\n",
      "(0, 2, 3, 4, 5, 6, 9, 11) 5 {0, 2, 3, 5, 11}\n",
      "(0, 2, 3, 4, 5, 6, 10, 11) 6 {0, 2, 3, 5, 10, 11}\n",
      "(0, 2, 3, 4, 5, 7, 8, 9) 5 {0, 2, 3, 5, 7}\n",
      "(0, 2, 3, 4, 5, 7, 8, 10) 6 {0, 2, 3, 5, 7, 10}\n",
      "(0, 2, 3, 4, 5, 7, 8, 11) 6 {0, 2, 3, 5, 7, 11}\n",
      "(0, 2, 3, 4, 5, 7, 9, 10) 6 {0, 2, 3, 5, 7, 10}\n",
      "(0, 2, 3, 4, 5, 7, 9, 11) 6 {0, 2, 3, 5, 7, 11}\n",
      "(0, 2, 3, 4, 5, 7, 10, 11) 7 {0, 2, 3, 5, 7, 10, 11}\n",
      "(0, 2, 3, 4, 5, 8, 9, 10) 5 {0, 2, 3, 5, 10}\n",
      "(0, 2, 3, 4, 5, 8, 9, 11) 5 {0, 2, 3, 5, 11}\n",
      "(0, 2, 3, 4, 5, 8, 10, 11) 6 {0, 2, 3, 5, 10, 11}\n",
      "(0, 2, 3, 4, 5, 9, 10, 11) 6 {0, 2, 3, 5, 10, 11}\n",
      "(0, 2, 3, 4, 6, 7, 8, 9) 4 {0, 2, 3, 7}\n",
      "(0, 2, 3, 4, 6, 7, 8, 10) 5 {0, 2, 3, 7, 10}\n",
      "(0, 2, 3, 4, 6, 7, 8, 11) 5 {0, 2, 3, 7, 11}\n",
      "(0, 2, 3, 4, 6, 7, 9, 10) 5 {0, 2, 3, 7, 10}\n",
      "(0, 2, 3, 4, 6, 7, 9, 11) 5 {0, 2, 3, 7, 11}\n",
      "(0, 2, 3, 4, 6, 7, 10, 11) 6 {0, 2, 3, 7, 10, 11}\n",
      "(0, 2, 3, 4, 6, 8, 9, 10) 4 {0, 10, 2, 3}\n",
      "(0, 2, 3, 4, 6, 8, 9, 11) 4 {0, 11, 2, 3}\n",
      "(0, 2, 3, 4, 6, 8, 10, 11) 5 {0, 2, 3, 10, 11}\n",
      "(0, 2, 3, 4, 6, 9, 10, 11) 5 {0, 2, 3, 10, 11}\n",
      "(0, 2, 3, 4, 7, 8, 9, 10) 5 {0, 2, 3, 7, 10}\n",
      "(0, 2, 3, 4, 7, 8, 9, 11) 5 {0, 2, 3, 7, 11}\n",
      "(0, 2, 3, 4, 7, 8, 10, 11) 6 {0, 2, 3, 7, 10, 11}\n",
      "(0, 2, 3, 4, 7, 9, 10, 11) 6 {0, 2, 3, 7, 10, 11}\n",
      "(0, 2, 3, 4, 8, 9, 10, 11) 5 {0, 2, 3, 10, 11}\n",
      "(0, 2, 3, 5, 6, 7, 8, 9) 5 {0, 2, 3, 5, 7}\n",
      "(0, 2, 3, 5, 6, 7, 8, 10) 6 {0, 2, 3, 5, 7, 10}\n",
      "(0, 2, 3, 5, 6, 7, 8, 11) 6 {0, 2, 3, 5, 7, 11}\n",
      "(0, 2, 3, 5, 6, 7, 9, 10) 6 {0, 2, 3, 5, 7, 10}\n",
      "(0, 2, 3, 5, 6, 7, 9, 11) 6 {0, 2, 3, 5, 7, 11}\n",
      "(0, 2, 3, 5, 6, 7, 10, 11) 7 {0, 2, 3, 5, 7, 10, 11}\n",
      "(0, 2, 3, 5, 6, 8, 9, 10) 5 {0, 2, 3, 5, 10}\n",
      "(0, 2, 3, 5, 6, 8, 9, 11) 5 {0, 2, 3, 5, 11}\n",
      "(0, 2, 3, 5, 6, 8, 10, 11) 6 {0, 2, 3, 5, 10, 11}\n",
      "(0, 2, 3, 5, 6, 9, 10, 11) 6 {0, 2, 3, 5, 10, 11}\n",
      "(0, 2, 3, 5, 7, 8, 9, 10) 6 {0, 2, 3, 5, 7, 10}\n",
      "(0, 2, 3, 5, 7, 8, 9, 11) 6 {0, 2, 3, 5, 7, 11}\n",
      "(0, 2, 3, 5, 7, 8, 10, 11) 7 {0, 2, 3, 5, 7, 10, 11}\n",
      "(0, 2, 3, 5, 7, 9, 10, 11) 7 {0, 2, 3, 5, 7, 10, 11}\n",
      "(0, 2, 3, 5, 8, 9, 10, 11) 6 {0, 2, 3, 5, 10, 11}\n",
      "(0, 2, 3, 6, 7, 8, 9, 10) 5 {0, 2, 3, 7, 10}\n",
      "(0, 2, 3, 6, 7, 8, 9, 11) 5 {0, 2, 3, 7, 11}\n",
      "(0, 2, 3, 6, 7, 8, 10, 11) 6 {0, 2, 3, 7, 10, 11}\n",
      "(0, 2, 3, 6, 7, 9, 10, 11) 6 {0, 2, 3, 7, 10, 11}\n",
      "(0, 2, 3, 6, 8, 9, 10, 11) 5 {0, 2, 3, 10, 11}\n",
      "(0, 2, 3, 7, 8, 9, 10, 11) 6 {0, 2, 3, 7, 10, 11}\n",
      "(0, 2, 4, 5, 6, 7, 8, 9) 4 {0, 2, 5, 7}\n",
      "(0, 2, 4, 5, 6, 7, 8, 10) 5 {0, 2, 5, 7, 10}\n",
      "(0, 2, 4, 5, 6, 7, 8, 11) 5 {0, 2, 5, 7, 11}\n",
      "(0, 2, 4, 5, 6, 7, 9, 10) 5 {0, 2, 5, 7, 10}\n",
      "(0, 2, 4, 5, 6, 7, 9, 11) 5 {0, 2, 5, 7, 11}\n",
      "(0, 2, 4, 5, 6, 7, 10, 11) 6 {0, 2, 5, 7, 10, 11}\n",
      "(0, 2, 4, 5, 6, 8, 9, 10) 4 {0, 2, 10, 5}\n",
      "(0, 2, 4, 5, 6, 8, 9, 11) 4 {0, 2, 11, 5}\n",
      "(0, 2, 4, 5, 6, 8, 10, 11) 5 {0, 2, 5, 10, 11}\n",
      "(0, 2, 4, 5, 6, 9, 10, 11) 5 {0, 2, 5, 10, 11}\n",
      "(0, 2, 4, 5, 7, 8, 9, 10) 5 {0, 2, 5, 7, 10}\n",
      "(0, 2, 4, 5, 7, 8, 9, 11) 5 {0, 2, 5, 7, 11}\n",
      "(0, 2, 4, 5, 7, 8, 10, 11) 6 {0, 2, 5, 7, 10, 11}\n",
      "(0, 2, 4, 5, 7, 9, 10, 11) 6 {0, 2, 5, 7, 10, 11}\n",
      "(0, 2, 4, 5, 8, 9, 10, 11) 5 {0, 2, 5, 10, 11}\n",
      "(0, 2, 4, 6, 7, 8, 9, 10) 4 {0, 2, 10, 7}\n",
      "(0, 2, 4, 6, 7, 8, 9, 11) 4 {0, 2, 11, 7}\n",
      "(0, 2, 4, 6, 7, 8, 10, 11) 5 {0, 2, 7, 10, 11}\n",
      "(0, 2, 4, 6, 7, 9, 10, 11) 5 {0, 2, 7, 10, 11}\n",
      "(0, 2, 4, 6, 8, 9, 10, 11) 4 {0, 11, 2, 10}\n",
      "(0, 2, 4, 7, 8, 9, 10, 11) 5 {0, 2, 7, 10, 11}\n",
      "(0, 2, 5, 6, 7, 8, 9, 10) 5 {0, 2, 5, 7, 10}\n",
      "(0, 2, 5, 6, 7, 8, 9, 11) 5 {0, 2, 5, 7, 11}\n",
      "(0, 2, 5, 6, 7, 8, 10, 11) 6 {0, 2, 5, 7, 10, 11}\n",
      "(0, 2, 5, 6, 7, 9, 10, 11) 6 {0, 2, 5, 7, 10, 11}\n",
      "(0, 2, 5, 6, 8, 9, 10, 11) 5 {0, 2, 5, 10, 11}\n",
      "(0, 2, 5, 7, 8, 9, 10, 11) 6 {0, 2, 5, 7, 10, 11}\n",
      "(0, 2, 6, 7, 8, 9, 10, 11) 5 {0, 2, 7, 10, 11}\n",
      "(0, 3, 4, 5, 6, 7, 8, 9) 4 {0, 3, 5, 7}\n",
      "(0, 3, 4, 5, 6, 7, 8, 10) 5 {0, 3, 5, 7, 10}\n",
      "(0, 3, 4, 5, 6, 7, 8, 11) 5 {0, 3, 5, 7, 11}\n",
      "(0, 3, 4, 5, 6, 7, 9, 10) 5 {0, 3, 5, 7, 10}\n",
      "(0, 3, 4, 5, 6, 7, 9, 11) 5 {0, 3, 5, 7, 11}\n",
      "(0, 3, 4, 5, 6, 7, 10, 11) 6 {0, 3, 5, 7, 10, 11}\n",
      "(0, 3, 4, 5, 6, 8, 9, 10) 4 {0, 10, 3, 5}\n",
      "(0, 3, 4, 5, 6, 8, 9, 11) 4 {0, 11, 3, 5}\n",
      "(0, 3, 4, 5, 6, 8, 10, 11) 5 {0, 3, 5, 10, 11}\n",
      "(0, 3, 4, 5, 6, 9, 10, 11) 5 {0, 3, 5, 10, 11}\n",
      "(0, 3, 4, 5, 7, 8, 9, 10) 5 {0, 3, 5, 7, 10}\n",
      "(0, 3, 4, 5, 7, 8, 9, 11) 5 {0, 3, 5, 7, 11}\n",
      "(0, 3, 4, 5, 7, 8, 10, 11) 6 {0, 3, 5, 7, 10, 11}\n",
      "(0, 3, 4, 5, 7, 9, 10, 11) 6 {0, 3, 5, 7, 10, 11}\n",
      "(0, 3, 4, 5, 8, 9, 10, 11) 5 {0, 3, 5, 10, 11}\n",
      "(0, 3, 4, 6, 7, 8, 9, 10) 4 {0, 10, 3, 7}\n",
      "(0, 3, 4, 6, 7, 8, 9, 11) 4 {0, 11, 3, 7}\n",
      "(0, 3, 4, 6, 7, 8, 10, 11) 5 {0, 3, 7, 10, 11}\n",
      "(0, 3, 4, 6, 7, 9, 10, 11) 5 {0, 3, 7, 10, 11}\n",
      "(0, 3, 4, 6, 8, 9, 10, 11) 4 {0, 11, 10, 3}\n",
      "(0, 3, 4, 7, 8, 9, 10, 11) 5 {0, 3, 7, 10, 11}\n",
      "(0, 3, 5, 6, 7, 8, 9, 10) 5 {0, 3, 5, 7, 10}\n",
      "(0, 3, 5, 6, 7, 8, 9, 11) 5 {0, 3, 5, 7, 11}\n",
      "(0, 3, 5, 6, 7, 8, 10, 11) 6 {0, 3, 5, 7, 10, 11}\n",
      "(0, 3, 5, 6, 7, 9, 10, 11) 6 {0, 3, 5, 7, 10, 11}\n",
      "(0, 3, 5, 6, 8, 9, 10, 11) 5 {0, 3, 5, 10, 11}\n",
      "(0, 3, 5, 7, 8, 9, 10, 11) 6 {0, 3, 5, 7, 10, 11}\n",
      "(0, 3, 6, 7, 8, 9, 10, 11) 5 {0, 3, 7, 10, 11}\n",
      "(0, 4, 5, 6, 7, 8, 9, 10) 4 {0, 10, 5, 7}\n",
      "(0, 4, 5, 6, 7, 8, 9, 11) 4 {0, 11, 5, 7}\n",
      "(0, 4, 5, 6, 7, 8, 10, 11) 5 {0, 5, 7, 10, 11}\n",
      "(0, 4, 5, 6, 7, 9, 10, 11) 5 {0, 5, 7, 10, 11}\n",
      "(0, 4, 5, 6, 8, 9, 10, 11) 4 {0, 10, 11, 5}\n",
      "(0, 4, 5, 7, 8, 9, 10, 11) 5 {0, 5, 7, 10, 11}\n",
      "(0, 4, 6, 7, 8, 9, 10, 11) 4 {0, 10, 11, 7}\n",
      "(0, 5, 6, 7, 8, 9, 10, 11) 5 {0, 5, 7, 10, 11}\n",
      "(1, 2, 3, 4, 5, 6, 7, 8) 5 {1, 2, 3, 5, 7}\n",
      "(1, 2, 3, 4, 5, 6, 7, 9) 5 {1, 2, 3, 5, 7}\n",
      "(1, 2, 3, 4, 5, 6, 7, 10) 6 {1, 2, 3, 5, 7, 10}\n",
      "(1, 2, 3, 4, 5, 6, 7, 11) 6 {1, 2, 3, 5, 7, 11}\n",
      "(1, 2, 3, 4, 5, 6, 8, 9) 4 {1, 2, 3, 5}\n",
      "(1, 2, 3, 4, 5, 6, 8, 10) 5 {1, 2, 3, 5, 10}\n",
      "(1, 2, 3, 4, 5, 6, 8, 11) 5 {1, 2, 3, 5, 11}\n",
      "(1, 2, 3, 4, 5, 6, 9, 10) 5 {1, 2, 3, 5, 10}\n",
      "(1, 2, 3, 4, 5, 6, 9, 11) 5 {1, 2, 3, 5, 11}\n",
      "(1, 2, 3, 4, 5, 6, 10, 11) 6 {1, 2, 3, 5, 10, 11}\n",
      "(1, 2, 3, 4, 5, 7, 8, 9) 5 {1, 2, 3, 5, 7}\n",
      "(1, 2, 3, 4, 5, 7, 8, 10) 6 {1, 2, 3, 5, 7, 10}\n",
      "(1, 2, 3, 4, 5, 7, 8, 11) 6 {1, 2, 3, 5, 7, 11}\n",
      "(1, 2, 3, 4, 5, 7, 9, 10) 6 {1, 2, 3, 5, 7, 10}\n",
      "(1, 2, 3, 4, 5, 7, 9, 11) 6 {1, 2, 3, 5, 7, 11}\n",
      "(1, 2, 3, 4, 5, 7, 10, 11) 7 {1, 2, 3, 5, 7, 10, 11}\n",
      "(1, 2, 3, 4, 5, 8, 9, 10) 5 {1, 2, 3, 5, 10}\n",
      "(1, 2, 3, 4, 5, 8, 9, 11) 5 {1, 2, 3, 5, 11}\n",
      "(1, 2, 3, 4, 5, 8, 10, 11) 6 {1, 2, 3, 5, 10, 11}\n",
      "(1, 2, 3, 4, 5, 9, 10, 11) 6 {1, 2, 3, 5, 10, 11}\n",
      "(1, 2, 3, 4, 6, 7, 8, 9) 4 {1, 2, 3, 7}\n",
      "(1, 2, 3, 4, 6, 7, 8, 10) 5 {1, 2, 3, 7, 10}\n",
      "(1, 2, 3, 4, 6, 7, 8, 11) 5 {1, 2, 3, 7, 11}\n",
      "(1, 2, 3, 4, 6, 7, 9, 10) 5 {1, 2, 3, 7, 10}\n",
      "(1, 2, 3, 4, 6, 7, 9, 11) 5 {1, 2, 3, 7, 11}\n",
      "(1, 2, 3, 4, 6, 7, 10, 11) 6 {1, 2, 3, 7, 10, 11}\n",
      "(1, 2, 3, 4, 6, 8, 9, 10) 4 {10, 1, 2, 3}\n",
      "(1, 2, 3, 4, 6, 8, 9, 11) 4 {11, 1, 2, 3}\n",
      "(1, 2, 3, 4, 6, 8, 10, 11) 5 {1, 2, 3, 10, 11}\n",
      "(1, 2, 3, 4, 6, 9, 10, 11) 5 {1, 2, 3, 10, 11}\n",
      "(1, 2, 3, 4, 7, 8, 9, 10) 5 {1, 2, 3, 7, 10}\n",
      "(1, 2, 3, 4, 7, 8, 9, 11) 5 {1, 2, 3, 7, 11}\n",
      "(1, 2, 3, 4, 7, 8, 10, 11) 6 {1, 2, 3, 7, 10, 11}\n",
      "(1, 2, 3, 4, 7, 9, 10, 11) 6 {1, 2, 3, 7, 10, 11}\n",
      "(1, 2, 3, 4, 8, 9, 10, 11) 5 {1, 2, 3, 10, 11}\n",
      "(1, 2, 3, 5, 6, 7, 8, 9) 5 {1, 2, 3, 5, 7}\n",
      "(1, 2, 3, 5, 6, 7, 8, 10) 6 {1, 2, 3, 5, 7, 10}\n",
      "(1, 2, 3, 5, 6, 7, 8, 11) 6 {1, 2, 3, 5, 7, 11}\n",
      "(1, 2, 3, 5, 6, 7, 9, 10) 6 {1, 2, 3, 5, 7, 10}\n",
      "(1, 2, 3, 5, 6, 7, 9, 11) 6 {1, 2, 3, 5, 7, 11}\n",
      "(1, 2, 3, 5, 6, 7, 10, 11) 7 {1, 2, 3, 5, 7, 10, 11}\n",
      "(1, 2, 3, 5, 6, 8, 9, 10) 5 {1, 2, 3, 5, 10}\n",
      "(1, 2, 3, 5, 6, 8, 9, 11) 5 {1, 2, 3, 5, 11}\n",
      "(1, 2, 3, 5, 6, 8, 10, 11) 6 {1, 2, 3, 5, 10, 11}\n",
      "(1, 2, 3, 5, 6, 9, 10, 11) 6 {1, 2, 3, 5, 10, 11}\n",
      "(1, 2, 3, 5, 7, 8, 9, 10) 6 {1, 2, 3, 5, 7, 10}\n",
      "(1, 2, 3, 5, 7, 8, 9, 11) 6 {1, 2, 3, 5, 7, 11}\n",
      "(1, 2, 3, 5, 7, 8, 10, 11) 7 {1, 2, 3, 5, 7, 10, 11}\n",
      "(1, 2, 3, 5, 7, 9, 10, 11) 7 {1, 2, 3, 5, 7, 10, 11}\n",
      "(1, 2, 3, 5, 8, 9, 10, 11) 6 {1, 2, 3, 5, 10, 11}\n",
      "(1, 2, 3, 6, 7, 8, 9, 10) 5 {1, 2, 3, 7, 10}\n",
      "(1, 2, 3, 6, 7, 8, 9, 11) 5 {1, 2, 3, 7, 11}\n",
      "(1, 2, 3, 6, 7, 8, 10, 11) 6 {1, 2, 3, 7, 10, 11}\n",
      "(1, 2, 3, 6, 7, 9, 10, 11) 6 {1, 2, 3, 7, 10, 11}\n",
      "(1, 2, 3, 6, 8, 9, 10, 11) 5 {1, 2, 3, 10, 11}\n",
      "(1, 2, 3, 7, 8, 9, 10, 11) 6 {1, 2, 3, 7, 10, 11}\n",
      "(1, 2, 4, 5, 6, 7, 8, 9) 4 {1, 2, 5, 7}\n",
      "(1, 2, 4, 5, 6, 7, 8, 10) 5 {1, 2, 5, 7, 10}\n",
      "(1, 2, 4, 5, 6, 7, 8, 11) 5 {1, 2, 5, 7, 11}\n",
      "(1, 2, 4, 5, 6, 7, 9, 10) 5 {1, 2, 5, 7, 10}\n",
      "(1, 2, 4, 5, 6, 7, 9, 11) 5 {1, 2, 5, 7, 11}\n",
      "(1, 2, 4, 5, 6, 7, 10, 11) 6 {1, 2, 5, 7, 10, 11}\n",
      "(1, 2, 4, 5, 6, 8, 9, 10) 4 {1, 2, 10, 5}\n",
      "(1, 2, 4, 5, 6, 8, 9, 11) 4 {1, 2, 11, 5}\n",
      "(1, 2, 4, 5, 6, 8, 10, 11) 5 {1, 2, 5, 10, 11}\n",
      "(1, 2, 4, 5, 6, 9, 10, 11) 5 {1, 2, 5, 10, 11}\n",
      "(1, 2, 4, 5, 7, 8, 9, 10) 5 {1, 2, 5, 7, 10}\n",
      "(1, 2, 4, 5, 7, 8, 9, 11) 5 {1, 2, 5, 7, 11}\n",
      "(1, 2, 4, 5, 7, 8, 10, 11) 6 {1, 2, 5, 7, 10, 11}\n",
      "(1, 2, 4, 5, 7, 9, 10, 11) 6 {1, 2, 5, 7, 10, 11}\n",
      "(1, 2, 4, 5, 8, 9, 10, 11) 5 {1, 2, 5, 10, 11}\n",
      "(1, 2, 4, 6, 7, 8, 9, 10) 4 {1, 2, 10, 7}\n",
      "(1, 2, 4, 6, 7, 8, 9, 11) 4 {1, 2, 11, 7}\n",
      "(1, 2, 4, 6, 7, 8, 10, 11) 5 {1, 2, 7, 10, 11}\n",
      "(1, 2, 4, 6, 7, 9, 10, 11) 5 {1, 2, 7, 10, 11}\n",
      "(1, 2, 4, 6, 8, 9, 10, 11) 4 {11, 1, 2, 10}\n",
      "(1, 2, 4, 7, 8, 9, 10, 11) 5 {1, 2, 7, 10, 11}\n",
      "(1, 2, 5, 6, 7, 8, 9, 10) 5 {1, 2, 5, 7, 10}\n",
      "(1, 2, 5, 6, 7, 8, 9, 11) 5 {1, 2, 5, 7, 11}\n",
      "(1, 2, 5, 6, 7, 8, 10, 11) 6 {1, 2, 5, 7, 10, 11}\n",
      "(1, 2, 5, 6, 7, 9, 10, 11) 6 {1, 2, 5, 7, 10, 11}\n",
      "(1, 2, 5, 6, 8, 9, 10, 11) 5 {1, 2, 5, 10, 11}\n",
      "(1, 2, 5, 7, 8, 9, 10, 11) 6 {1, 2, 5, 7, 10, 11}\n",
      "(1, 2, 6, 7, 8, 9, 10, 11) 5 {1, 2, 7, 10, 11}\n",
      "(1, 3, 4, 5, 6, 7, 8, 9) 4 {1, 3, 5, 7}\n",
      "(1, 3, 4, 5, 6, 7, 8, 10) 5 {1, 3, 5, 7, 10}\n",
      "(1, 3, 4, 5, 6, 7, 8, 11) 5 {1, 3, 5, 7, 11}\n",
      "(1, 3, 4, 5, 6, 7, 9, 10) 5 {1, 3, 5, 7, 10}\n",
      "(1, 3, 4, 5, 6, 7, 9, 11) 5 {1, 3, 5, 7, 11}\n",
      "(1, 3, 4, 5, 6, 7, 10, 11) 6 {1, 3, 5, 7, 10, 11}\n",
      "(1, 3, 4, 5, 6, 8, 9, 10) 4 {1, 10, 3, 5}\n",
      "(1, 3, 4, 5, 6, 8, 9, 11) 4 {11, 1, 3, 5}\n",
      "(1, 3, 4, 5, 6, 8, 10, 11) 5 {1, 3, 5, 10, 11}\n",
      "(1, 3, 4, 5, 6, 9, 10, 11) 5 {1, 3, 5, 10, 11}\n",
      "(1, 3, 4, 5, 7, 8, 9, 10) 5 {1, 3, 5, 7, 10}\n",
      "(1, 3, 4, 5, 7, 8, 9, 11) 5 {1, 3, 5, 7, 11}\n",
      "(1, 3, 4, 5, 7, 8, 10, 11) 6 {1, 3, 5, 7, 10, 11}\n",
      "(1, 3, 4, 5, 7, 9, 10, 11) 6 {1, 3, 5, 7, 10, 11}\n",
      "(1, 3, 4, 5, 8, 9, 10, 11) 5 {1, 3, 5, 10, 11}\n",
      "(1, 3, 4, 6, 7, 8, 9, 10) 4 {1, 10, 3, 7}\n",
      "(1, 3, 4, 6, 7, 8, 9, 11) 4 {11, 1, 3, 7}\n",
      "(1, 3, 4, 6, 7, 8, 10, 11) 5 {1, 3, 7, 10, 11}\n",
      "(1, 3, 4, 6, 7, 9, 10, 11) 5 {1, 3, 7, 10, 11}\n",
      "(1, 3, 4, 6, 8, 9, 10, 11) 4 {11, 1, 10, 3}\n",
      "(1, 3, 4, 7, 8, 9, 10, 11) 5 {1, 3, 7, 10, 11}\n",
      "(1, 3, 5, 6, 7, 8, 9, 10) 5 {1, 3, 5, 7, 10}\n",
      "(1, 3, 5, 6, 7, 8, 9, 11) 5 {1, 3, 5, 7, 11}\n",
      "(1, 3, 5, 6, 7, 8, 10, 11) 6 {1, 3, 5, 7, 10, 11}\n",
      "(1, 3, 5, 6, 7, 9, 10, 11) 6 {1, 3, 5, 7, 10, 11}\n",
      "(1, 3, 5, 6, 8, 9, 10, 11) 5 {1, 3, 5, 10, 11}\n",
      "(1, 3, 5, 7, 8, 9, 10, 11) 6 {1, 3, 5, 7, 10, 11}\n",
      "(1, 3, 6, 7, 8, 9, 10, 11) 5 {1, 3, 7, 10, 11}\n",
      "(1, 4, 5, 6, 7, 8, 9, 10) 4 {1, 10, 5, 7}\n",
      "(1, 4, 5, 6, 7, 8, 9, 11) 4 {1, 11, 5, 7}\n",
      "(1, 4, 5, 6, 7, 8, 10, 11) 5 {1, 5, 7, 10, 11}\n",
      "(1, 4, 5, 6, 7, 9, 10, 11) 5 {1, 5, 7, 10, 11}\n",
      "(1, 4, 5, 6, 8, 9, 10, 11) 4 {1, 10, 11, 5}\n",
      "(1, 4, 5, 7, 8, 9, 10, 11) 5 {1, 5, 7, 10, 11}\n",
      "(1, 4, 6, 7, 8, 9, 10, 11) 4 {1, 10, 11, 7}\n",
      "(1, 5, 6, 7, 8, 9, 10, 11) 5 {1, 5, 7, 10, 11}\n",
      "(2, 3, 4, 5, 6, 7, 8, 9) 4 {2, 3, 5, 7}\n",
      "(2, 3, 4, 5, 6, 7, 8, 10) 5 {2, 3, 5, 7, 10}\n",
      "(2, 3, 4, 5, 6, 7, 8, 11) 5 {2, 3, 5, 7, 11}\n",
      "(2, 3, 4, 5, 6, 7, 9, 10) 5 {2, 3, 5, 7, 10}\n",
      "(2, 3, 4, 5, 6, 7, 9, 11) 5 {2, 3, 5, 7, 11}\n",
      "(2, 3, 4, 5, 6, 7, 10, 11) 6 {2, 3, 5, 7, 10, 11}\n",
      "(2, 3, 4, 5, 6, 8, 9, 10) 4 {10, 2, 3, 5}\n",
      "(2, 3, 4, 5, 6, 8, 9, 11) 4 {11, 2, 3, 5}\n",
      "(2, 3, 4, 5, 6, 8, 10, 11) 5 {2, 3, 5, 10, 11}\n",
      "(2, 3, 4, 5, 6, 9, 10, 11) 5 {2, 3, 5, 10, 11}\n",
      "(2, 3, 4, 5, 7, 8, 9, 10) 5 {2, 3, 5, 7, 10}\n",
      "(2, 3, 4, 5, 7, 8, 9, 11) 5 {2, 3, 5, 7, 11}\n",
      "(2, 3, 4, 5, 7, 8, 10, 11) 6 {2, 3, 5, 7, 10, 11}\n",
      "(2, 3, 4, 5, 7, 9, 10, 11) 6 {2, 3, 5, 7, 10, 11}\n",
      "(2, 3, 4, 5, 8, 9, 10, 11) 5 {2, 3, 5, 10, 11}\n",
      "(2, 3, 4, 6, 7, 8, 9, 10) 4 {10, 2, 3, 7}\n",
      "(2, 3, 4, 6, 7, 8, 9, 11) 4 {11, 2, 3, 7}\n",
      "(2, 3, 4, 6, 7, 8, 10, 11) 5 {2, 3, 7, 10, 11}\n",
      "(2, 3, 4, 6, 7, 9, 10, 11) 5 {2, 3, 7, 10, 11}\n",
      "(2, 3, 4, 6, 8, 9, 10, 11) 4 {10, 11, 2, 3}\n",
      "(2, 3, 4, 7, 8, 9, 10, 11) 5 {2, 3, 7, 10, 11}\n",
      "(2, 3, 5, 6, 7, 8, 9, 10) 5 {2, 3, 5, 7, 10}\n",
      "(2, 3, 5, 6, 7, 8, 9, 11) 5 {2, 3, 5, 7, 11}\n",
      "(2, 3, 5, 6, 7, 8, 10, 11) 6 {2, 3, 5, 7, 10, 11}\n",
      "(2, 3, 5, 6, 7, 9, 10, 11) 6 {2, 3, 5, 7, 10, 11}\n",
      "(2, 3, 5, 6, 8, 9, 10, 11) 5 {2, 3, 5, 10, 11}\n",
      "(2, 3, 5, 7, 8, 9, 10, 11) 6 {2, 3, 5, 7, 10, 11}\n",
      "(2, 3, 6, 7, 8, 9, 10, 11) 5 {2, 3, 7, 10, 11}\n",
      "(2, 4, 5, 6, 7, 8, 9, 10) 4 {2, 10, 5, 7}\n",
      "(2, 4, 5, 6, 7, 8, 9, 11) 4 {2, 11, 5, 7}\n",
      "(2, 4, 5, 6, 7, 8, 10, 11) 5 {2, 5, 7, 10, 11}\n",
      "(2, 4, 5, 6, 7, 9, 10, 11) 5 {2, 5, 7, 10, 11}\n",
      "(2, 4, 5, 6, 8, 9, 10, 11) 4 {11, 2, 10, 5}\n",
      "(2, 4, 5, 7, 8, 9, 10, 11) 5 {2, 5, 7, 10, 11}\n",
      "(2, 4, 6, 7, 8, 9, 10, 11) 4 {11, 2, 10, 7}\n",
      "(2, 5, 6, 7, 8, 9, 10, 11) 5 {2, 5, 7, 10, 11}\n",
      "(3, 4, 5, 6, 7, 8, 9, 10) 4 {10, 3, 5, 7}\n",
      "(3, 4, 5, 6, 7, 8, 9, 11) 4 {11, 3, 5, 7}\n",
      "(3, 4, 5, 6, 7, 8, 10, 11) 5 {3, 5, 7, 10, 11}\n",
      "(3, 4, 5, 6, 7, 9, 10, 11) 5 {3, 5, 7, 10, 11}\n",
      "(3, 4, 5, 6, 8, 9, 10, 11) 4 {11, 10, 3, 5}\n",
      "(3, 4, 5, 7, 8, 9, 10, 11) 5 {3, 5, 7, 10, 11}\n",
      "(3, 4, 6, 7, 8, 9, 10, 11) 4 {11, 10, 3, 7}\n",
      "(3, 5, 6, 7, 8, 9, 10, 11) 5 {3, 5, 7, 10, 11}\n",
      "(4, 5, 6, 7, 8, 9, 10, 11) 4 {10, 11, 5, 7}\n"
     ]
    }
   ],
   "source": [
    "# Calculate the overlap between each element of combs and labels_tea.\n",
    "\n",
    "no_overlaps = []\n",
    "\n",
    "\n",
    "#loop through each combination in combs.\n",
    "for comb in combs:\n",
    "  # Turn comb into a set.\n",
    "  s1 = set(comb)\n",
    "  # Turn labels_tea into a set.\n",
    "  s2 = set(labels_tea)\n",
    "  # Figure out where they overlap.\n",
    "  overlap = s1.intersection(s2)\n",
    "  # Show the combination and the overlap.\n",
    "  print(comb, len(overlap), overlap)\n",
    "  # Append overlap to no_overlaps.\n",
    "  no_overlaps.append(len(overlap))"
   ]
  },
  {
   "cell_type": "code",
   "execution_count": 167,
   "id": "b04457ac",
   "metadata": {},
   "outputs": [
    {
     "name": "stdout",
     "output_type": "stream",
     "text": [
      "[6, 5, 5, 6, 6, 6, 6, 7, 7, 5, 6, 6, 6, 6, 7, 5, 5, 6, 6, 4, 5, 5, 5, 5, 6, 5, 6, 6, 6, 6, 7, 5, 5, 6, 6, 6, 6, 7, 7, 5, 6, 6, 6, 6, 7, 6, 7, 7, 7, 7, 8, 6, 6, 7, 7, 5, 6, 6, 6, 6, 7, 5, 5, 6, 6, 6, 6, 7, 7, 6, 5, 5, 6, 6, 4, 5, 5, 5, 5, 6, 5, 6, 6, 6, 6, 7, 5, 5, 6, 6, 4, 5, 5, 5, 5, 6, 4, 4, 5, 5, 5, 5, 6, 6, 5, 5, 6, 6, 6, 6, 7, 5, 5, 6, 6, 6, 6, 7, 7, 6, 5, 5, 6, 6, 5, 6, 5, 5, 6, 6, 4, 5, 5, 5, 5, 6, 5, 6, 6, 6, 6, 7, 5, 5, 6, 6, 4, 5, 5, 5, 5, 6, 4, 4, 5, 5, 5, 5, 6, 6, 5, 5, 6, 6, 6, 6, 7, 5, 5, 6, 6, 6, 6, 7, 7, 6, 5, 5, 6, 6, 5, 6, 4, 5, 5, 5, 5, 6, 4, 4, 5, 5, 5, 5, 6, 6, 5, 4, 4, 5, 5, 4, 5, 5, 5, 6, 6, 5, 6, 5, 5, 5, 6, 6, 4, 5, 5, 5, 5, 6, 5, 6, 6, 6, 6, 7, 5, 5, 6, 6, 4, 5, 5, 5, 5, 6, 4, 4, 5, 5, 5, 5, 6, 6, 5, 5, 6, 6, 6, 6, 7, 5, 5, 6, 6, 6, 6, 7, 7, 6, 5, 5, 6, 6, 5, 6, 4, 5, 5, 5, 5, 6, 4, 4, 5, 5, 5, 5, 6, 6, 5, 4, 4, 5, 5, 4, 5, 5, 5, 6, 6, 5, 6, 5, 4, 5, 5, 5, 5, 6, 4, 4, 5, 5, 5, 5, 6, 6, 5, 4, 4, 5, 5, 4, 5, 5, 5, 6, 6, 5, 6, 5, 4, 4, 5, 5, 4, 5, 4, 5, 5, 5, 6, 6, 4, 5, 5, 5, 5, 6, 5, 6, 6, 6, 6, 7, 5, 5, 6, 6, 4, 5, 5, 5, 5, 6, 4, 4, 5, 5, 5, 5, 6, 6, 5, 5, 6, 6, 6, 6, 7, 5, 5, 6, 6, 6, 6, 7, 7, 6, 5, 5, 6, 6, 5, 6, 4, 5, 5, 5, 5, 6, 4, 4, 5, 5, 5, 5, 6, 6, 5, 4, 4, 5, 5, 4, 5, 5, 5, 6, 6, 5, 6, 5, 4, 5, 5, 5, 5, 6, 4, 4, 5, 5, 5, 5, 6, 6, 5, 4, 4, 5, 5, 4, 5, 5, 5, 6, 6, 5, 6, 5, 4, 4, 5, 5, 4, 5, 4, 5, 4, 5, 5, 5, 5, 6, 4, 4, 5, 5, 5, 5, 6, 6, 5, 4, 4, 5, 5, 4, 5, 5, 5, 6, 6, 5, 6, 5, 4, 4, 5, 5, 4, 5, 4, 5, 4, 4, 5, 5, 4, 5, 4, 5, 4]\n"
     ]
    }
   ],
   "source": [
    "# Show the overlaps.\n",
    "print(no_overlaps)"
   ]
  },
  {
   "cell_type": "code",
   "execution_count": 168,
   "id": "e2bd9968",
   "metadata": {},
   "outputs": [
    {
     "data": {
      "text/plain": [
       "(array([4, 5, 6, 7, 8]), array([ 70, 224, 168,  32,   1], dtype=int64))"
      ]
     },
     "execution_count": 168,
     "metadata": {},
     "output_type": "execute_result"
    }
   ],
   "source": [
    "# Count the number of times each overlap occurs.\n",
    "counts = np.unique(no_overlaps, return_counts=True)\n",
    "\n",
    "# Show.\n",
    "counts"
   ]
  },
  {
   "cell_type": "code",
   "execution_count": 169,
   "id": "de708fb5",
   "metadata": {},
   "outputs": [
    {
     "data": {
      "image/png": "[encoded data removed]",
      "text/plain": [
       "<Figure size 600x400 with 1 Axes>"
      ]
     },
     "metadata": {},
     "output_type": "display_data"
    }
   ],
   "source": [
    "# Create a figure.\n",
    "fig, ax = plt.subplots(figsize=(6, 4))\n",
    "\n",
    "# Bar chart.\n",
    "ax.bar(counts[0], counts[1]);"
   ]
  },
  {
   "cell_type": "markdown",
   "id": "78d2872b",
   "metadata": {},
   "source": [
    "Chances are that the lady will select 8 cups in which 5 are right is 224 over 495 chances"
   ]
  },
  {
   "cell_type": "code",
   "execution_count": 170,
   "id": "996ce019",
   "metadata": {},
   "outputs": [
    {
     "data": {
      "text/plain": [
       "0.00202020202020202"
      ]
     },
     "execution_count": 170,
     "metadata": {},
     "output_type": "execute_result"
    }
   ],
   "source": [
    "# The probability that she (randomly) selects the four correct cups.\n",
    "1 / 495"
   ]
  },
  {
   "cell_type": "code",
   "execution_count": 171,
   "id": "4cda0008",
   "metadata": {},
   "outputs": [
    {
     "data": {
      "text/plain": [
       "0.3414141414141414"
      ]
     },
     "execution_count": 171,
     "metadata": {},
     "output_type": "execute_result"
    }
   ],
   "source": [
    "# The probability that she (randomly) selects at least six correct cups.\n",
    "(168 + 1) / 495"
   ]
  },
  {
   "cell_type": "markdown",
   "id": "c19aa060",
   "metadata": {},
   "source": [
    "bit over one in a third chance"
   ]
  },
  {
   "cell_type": "markdown",
   "id": "f25d2e73",
   "metadata": {},
   "source": [
    "Simulation of the 'lady tasting tea' experiment."
   ]
  },
  {
   "cell_type": "code",
   "execution_count": 172,
   "id": "5495efac",
   "metadata": {},
   "outputs": [],
   "source": [
    "trials = 50000  # number of simulated shuffles\n",
    "\n",
    "\n",
    "# Simulation function\n",
    "def simulate_correct_counts(n, k, trials):\n",
    "    correct_counts = []  # list to store how many cups are correct each time\n",
    "\n",
    "    for i in range(trials):\n",
    "        # 1: Randomly assign which cups are milk first\n",
    "        true_milk = set(random.sample(range(n), k))\n",
    "\n",
    "        # 2: Lady randomly guesses which k cups are milk first\n",
    "        guess_milk = set(random.sample(range(n), k))\n",
    "\n",
    "        # 3: Count how many cups were guessed correctly\n",
    "        num_correct = len(true_milk.intersection(guess_milk))\n",
    "\n",
    "        # 4: Store the result\n",
    "        correct_counts.append(num_correct)\n",
    "\n",
    "    return correct_counts\n"
   ]
  },
  {
   "cell_type": "code",
   "execution_count": 173,
   "id": "a184bae2",
   "metadata": {},
   "outputs": [],
   "source": [
    "# Run simulation for both experiments\n",
    "correct_8 = simulate_correct_counts(num_cups, num_milk_first, trials)\n",
    "correct_12 = simulate_correct_counts(num_cups_ex, num_milk_first_ex, trials)\n"
   ]
  },
  {
   "cell_type": "code",
   "execution_count": 174,
   "id": "425ebe01",
   "metadata": {},
   "outputs": [
    {
     "data": {
      "image/png": "[encoded data removed]",
      "text/plain": [
       "<Figure size 1000x500 with 1 Axes>"
      ]
     },
     "metadata": {},
     "output_type": "display_data"
    },
    {
     "name": "stdout",
     "output_type": "stream",
     "text": [
      "Probability of perfect guessing (8 cups):  0.014220 ≈ 1/70\n",
      "Probability of perfect guessing (12 cups): 0.001660 ≈ 1/495\n"
     ]
    }
   ],
   "source": [
    "# Plot results\n",
    "\n",
    "plt.figure(figsize=(10, 5))\n",
    "\n",
    "plt.hist(correct_8, bins=range(num_milk_first + 2), alpha=0.6, label='8 cups (4/4)')\n",
    "plt.hist(correct_12, bins=range(num_milk_first_ex + 2), alpha=0.6, label='12 cups (8/4)')\n",
    "\n",
    "plt.xlabel(\"Number of correctly identified milk first cups\")\n",
    "plt.ylabel(\"Frequency (out of trials)\")\n",
    "plt.title(\"Lady Tasting Tea Simulation: Identifying Milk First Cups (Random Guessing)\")\n",
    "plt.legend()\n",
    "plt.grid(True)\n",
    "plt.show()\n",
    "\n",
    "\n",
    "# Print probabilities of perfect guessing\n",
    "p_all_correct_8 = correct_8.count(num_milk_first) / trials\n",
    "p_all_correct_12 = correct_12.count(num_milk_first_ex) / trials\n",
    "\n",
    "print(f\"Probability of perfect guessing (8 cups):  {p_all_correct_8:.6f} ≈ 1/{math.comb(8,4)}\")\n",
    "print(f\"Probability of perfect guessing (12 cups): {p_all_correct_12:.6f} ≈ 1/{math.comb(12,4)}\")\n",
    "\n"
   ]
  },
  {
   "cell_type": "code",
   "execution_count": 175,
   "id": "997b203d",
   "metadata": {},
   "outputs": [
    {
     "data": {
      "image/png": "[encoded data removed]",
      "text/plain": [
       "<Figure size 1000x500 with 1 Axes>"
      ]
     },
     "metadata": {},
     "output_type": "display_data"
    },
    {
     "name": "stdout",
     "output_type": "stream",
     "text": [
      "Probability of perfect guessing (8 cups, tea-first):  0.014380 ≈ 1/70\n",
      "Probability of perfect guessing (12 cups, tea-first): 0.001820 ≈ 1/495\n"
     ]
    }
   ],
   "source": [
    "\n",
    "trials = 50000\n",
    "\n",
    "random.seed(42)\n",
    "\n",
    "# --- Simulation function for TEA-FIRST guesses ---\n",
    "def simulate_correct_counts_tea_first(n, k, trials):\n",
    "    correct_counts = []\n",
    "    for _ in range(trials):\n",
    "        # Randomly assign which cups are tea-first\n",
    "        true_tea = set(random.sample(range(n), k))\n",
    "        # Lady randomly guesses which cups are tea-first\n",
    "        guess_tea = set(random.sample(range(n), k))\n",
    "        # Count how many were correctly guessed\n",
    "        num_correct = len(true_tea.intersection(guess_tea))\n",
    "        correct_counts.append(num_correct)\n",
    "    return correct_counts\n",
    "\n",
    "# --- Run simulations ---\n",
    "correct_tea_8 = simulate_correct_counts_tea_first(num_cups, num_tea_first, trials)\n",
    "correct_tea_12 = simulate_correct_counts_tea_first(num_cups_ex, num_tea_first_ex, trials)\n",
    "\n",
    "# --- Plot results ---\n",
    "plt.figure(figsize=(10, 5))\n",
    "\n",
    "plt.hist(correct_tea_8, bins=range(num_tea_first + 2), alpha=0.6, label='8 cups (4 tea first)')\n",
    "plt.hist(correct_tea_12, bins=range(num_tea_first_ex + 2), alpha=0.6, label='12 cups (8 tea first)')\n",
    "\n",
    "plt.xlabel(\"Number of correctly identified tea first cups\")\n",
    "plt.ylabel(\"Frequency (out of trials)\")\n",
    "plt.title(\"Lady Tasting Tea Simulation: Identifying Tea-First Cups (Random Guessing)\")\n",
    "plt.legend()\n",
    "plt.grid(True)\n",
    "plt.show()\n",
    "\n",
    "# --- Probability of perfect guessing ---\n",
    "p_all_correct_tea_8 = correct_tea_8.count(num_tea_first) / trials\n",
    "p_all_correct_tea_12 = correct_tea_12.count(num_tea_first_ex) / trials\n",
    "\n",
    "print(f\"Probability of perfect guessing (8 cups, tea-first):  {p_all_correct_tea_8:.6f} ≈ 1/{math.comb(8,4)}\")\n",
    "print(f\"Probability of perfect guessing (12 cups, tea-first): {p_all_correct_tea_12:.6f} ≈ 1/{math.comb(12,8)}\")\n"
   ]
  },
  {
   "cell_type": "markdown",
   "id": "c9a4582c",
   "metadata": {},
   "source": [
    "The histogram shows the distribution of correct identifications expected under random guessing for two versions of the Lady Tasting Tea experiment: one with 8 cups (4 milkfirst) and another with 12 cups (4 milk first). In both cases, most simulated trials resulted in around two correct guesses, while perfect identification of all milk-first cups was extremely rare. The probability of guessing perfectly by chance is approximately 1 in 70 (1.4%) for the 8-cup test and 1 in 495 (0.2%) for the 12-cup test. This means that if a participant were to correctly identify all milk-first cups, such an outcome would be very unlikely under random guessing. Therefore, a perfect result would provide strong evidence that the participant can genuinely distinguish the pouring order rather than relying on chance."
   ]
  },
  {
   "cell_type": "markdown",
   "id": "7224060e",
   "metadata": {},
   "source": [
    "## Problem 2: Normal Distribution\n",
    "\n",
    "Generate 100,000 samples of size 10 from the standard normal distribution. For each sample, compute the standard deviation with ddof=1 (sample SD) and with ddof=0 (population SD). Plot histograms of both sets of values on the same axes with transparency. Describe the differences you see. Explain how you expect these differences to change if the sample size is increased."
   ]
  },
  {
   "cell_type": "markdown",
   "id": "e0e0e9fd",
   "metadata": {},
   "source": [
    "## Problem 3: t-Tests\n",
    "\n",
    "A type II error occurs when a test fails to reject the null hypothesis even though it is false. For each mean difference\n",
    "$ d =0,0.1,0.2,…,1.0 $, repeat the following simulation 1,000 times:\n",
    "\n",
    "\n",
    "* Draw two samples of size 100, one from the standard normal distribution and one from the normal distribution with mean $d$ and standard deviation 1.\n",
    "* Run an independent samples t-test on the two samples, rejecting the null hypothesis if the p-value is less than 0.05.\n",
    "* Record the proportion of times the null hypothesis is not rejected.\n",
    "\n",
    "\n",
    "Plot this proportion against $d$, and explain how the type II error rate changes as the difference in means increases."
   ]
  },
  {
   "cell_type": "markdown",
   "id": "27a21caf",
   "metadata": {},
   "source": [
    "## Problem 4: ANOVA\n",
    "\n",
    "Generate three independent samples, each of size 30, from normal distributions with means 0, 0.5, and 1, each with standard deviation 1.\n",
    "\n",
    "* Perform a one-way ANOVA to test whether all three means are equal.\n",
    "* Perform three independent two-sample t-tests: samples 1 vs 2, 1 vs 3, and 2 vs 3.\n",
    "* Compare the conclusions.\n",
    "\n",
    "Write a short note on why ANOVA is preferred over running several t-tests."
   ]
  },
  {
   "cell_type": "markdown",
   "id": "3f843419",
   "metadata": {},
   "source": [
    "Importing nessesary libraries"
   ]
  },
  {
   "cell_type": "code",
   "execution_count": 176,
   "id": "d30588d1",
   "metadata": {},
   "outputs": [],
   "source": [
    "import numpy as np"
   ]
  },
  {
   "cell_type": "markdown",
   "id": "1e3f5666",
   "metadata": {},
   "source": [
    "***\n",
    "End"
   ]
  }
 ],
 "metadata": {
  "kernelspec": {
   "display_name": "base",
   "language": "python",
   "name": "python3"
  },
  "language_info": {
   "codemirror_mode": {
    "name": "ipython",
    "version": 3
   },
   "file_extension": ".py",
   "mimetype": "text/x-python",
   "name": "python",
   "nbconvert_exporter": "python",
   "pygments_lexer": "ipython3",
   "version": "3.11.10"
  }
 },
 "nbformat": 4,
 "nbformat_minor": 5
}
